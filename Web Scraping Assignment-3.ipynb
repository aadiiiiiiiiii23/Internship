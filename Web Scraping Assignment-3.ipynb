{
 "cells": [
  {
   "cell_type": "markdown",
   "id": "0830d519",
   "metadata": {},
   "source": [
    "# Name- Aditya Jain"
   ]
  },
  {
   "cell_type": "markdown",
   "id": "be745e80",
   "metadata": {},
   "source": [
    "# Batch - DS2310"
   ]
  },
  {
   "cell_type": "markdown",
   "id": "b7d618c4",
   "metadata": {},
   "source": [
    "**Question 1**- Write a python program which searches all the product under a particular product from www.amazon.in. The\n",
    "product to be searched will be taken as input from user. For e.g. If user input is ‘guitar’. Then search for\n",
    "guitars. "
   ]
  },
  {
   "cell_type": "code",
   "execution_count": 1,
   "id": "bc0a432d",
   "metadata": {},
   "outputs": [],
   "source": [
    "# import necessary library\n",
    "import selenium\n",
    "import pandas as pd\n",
    "from selenium import webdriver\n",
    "import warnings\n",
    "from selenium.common.exceptions import StaleElementReferenceException, NoSuchElementException\n",
    "warnings.filterwarnings('ignore')\n",
    "from selenium.webdriver.common.by import By\n",
    "import time"
   ]
  },
  {
   "cell_type": "code",
   "execution_count": 2,
   "id": "a93f8d45",
   "metadata": {},
   "outputs": [],
   "source": [
    "driver = webdriver.Chrome()"
   ]
  },
  {
   "cell_type": "code",
   "execution_count": 3,
   "id": "4e694b59",
   "metadata": {},
   "outputs": [],
   "source": [
    "#open the amazon page on automated chrome browser\n",
    "driver.get(\"https://www.amazon.in/\")"
   ]
  },
  {
   "cell_type": "code",
   "execution_count": 4,
   "id": "b44d9019",
   "metadata": {},
   "outputs": [
    {
     "name": "stdout",
     "output_type": "stream",
     "text": [
      "Enter the product namephones\n"
     ]
    }
   ],
   "source": [
    "Enter = input(\"Enter the product name\")"
   ]
  },
  {
   "cell_type": "code",
   "execution_count": 5,
   "id": "779242f9",
   "metadata": {},
   "outputs": [],
   "source": [
    "# search the search bar and enter the product\n",
    "search = driver.find_element(By.XPATH,'/html/body/div[1]/header/div/div[1]/div[2]/div/form/div[2]/div[1]/input')\n",
    "search.send_keys(Enter)"
   ]
  },
  {
   "cell_type": "code",
   "execution_count": 6,
   "id": "4712cea9",
   "metadata": {},
   "outputs": [],
   "source": [
    "# search button\n",
    "search_button = driver.find_element(By.XPATH,'/html/body/div[1]/header/div/div[1]/div[2]/div/form/div[3]/div/span/input')\n",
    "search_button.click()"
   ]
  },
  {
   "cell_type": "markdown",
   "id": "781e0b82",
   "metadata": {},
   "source": [
    "**Question 2**- In the above question, now scrape the following details of each product listed in first 3 pages of your search\n",
    "results and save it in a data frame and csv. In case if any product has less than 3 pages in search results then\n",
    "scrape all the products available under that product name. Details to be scraped are: \"Brand\n",
    "Name\", \"Name of the Product\", \"Price\", \"Return/Exchange\", \"Expected Delivery\", \"Availability\" and\n",
    "“Product URL”. In case, if any of the details are missing for any of the product then replace it by “-“. "
   ]
  },
  {
   "cell_type": "code",
   "execution_count": 7,
   "id": "b4a2ae36",
   "metadata": {},
   "outputs": [],
   "source": [
    "# empty enumerate for store detais\n",
    "Brand_name = []\n",
    "price = []\n",
    "Expected_delivery=[]\n",
    "url = []"
   ]
  },
  {
   "cell_type": "code",
   "execution_count": 8,
   "id": "ff9fd539",
   "metadata": {},
   "outputs": [],
   "source": [
    "start = 0\n",
    "end = 3\n",
    "for page in range(start,end):\n",
    "#scraping the brand name\n",
    "    brand = driver.find_elements(By.XPATH,'//h2[@class=\"a-size-mini a-spacing-none a-color-base s-line-clamp-2\"]')\n",
    "    for i in brand:\n",
    "        Brand_name.append(i.text)\n",
    "# scraping the price of product\n",
    "    prices = driver.find_elements(By.XPATH,'//span[@class=\"a-price\"]')\n",
    "    for a in prices:\n",
    "        price.append(a.text)\n",
    "# scraping the expected delivery of product\n",
    "    exp = driver.find_elements(By.XPATH,'//div[@data-cy=\"delivery-recipe\"]')\n",
    "    for b in exp:\n",
    "        Expected_delivery.append(b.text)\n",
    "# scraping the urls of each product\n",
    "    urls = driver.find_elements(By.XPATH,'//a[@class=\"a-link-normal s-underline-text s-underline-link-text s-link-style a-text-normal\"]')\n",
    "    for c in urls:\n",
    "        link = c.get_attribute('href')\n",
    "        url.append(link)\n",
    "        \n",
    "            \n",
    "# scraping next button for the scrap details of next pages        \n",
    "    next_button= driver.find_element(By.XPATH,'/html/body/div[1]/div[1]/div[1]/div[1]/div/span[1]/div[1]/div[26]/div/div/span/a[3]')\n",
    "    next_button.click()\n",
    "    time.sleep(3)\n"
   ]
  },
  {
   "cell_type": "code",
   "execution_count": 9,
   "id": "de45d845",
   "metadata": {},
   "outputs": [
    {
     "name": "stdout",
     "output_type": "stream",
     "text": [
      "66 66 66 66\n"
     ]
    }
   ],
   "source": [
    "# print len\n",
    "print(len(Brand_name),len(price),len(Expected_delivery),len(url))"
   ]
  },
  {
   "cell_type": "code",
   "execution_count": 10,
   "id": "079b89ef",
   "metadata": {},
   "outputs": [
    {
     "data": {
      "text/html": [
       "<div>\n",
       "<style scoped>\n",
       "    .dataframe tbody tr th:only-of-type {\n",
       "        vertical-align: middle;\n",
       "    }\n",
       "\n",
       "    .dataframe tbody tr th {\n",
       "        vertical-align: top;\n",
       "    }\n",
       "\n",
       "    .dataframe thead th {\n",
       "        text-align: right;\n",
       "    }\n",
       "</style>\n",
       "<table border=\"1\" class=\"dataframe\">\n",
       "  <thead>\n",
       "    <tr style=\"text-align: right;\">\n",
       "      <th></th>\n",
       "      <th>Brand</th>\n",
       "      <th>Price</th>\n",
       "      <th>Expected_delivery</th>\n",
       "      <th>Urls</th>\n",
       "    </tr>\n",
       "  </thead>\n",
       "  <tbody>\n",
       "    <tr>\n",
       "      <th>0</th>\n",
       "      <td>Samsung Galaxy M13 (Stardust Brown, 4GB, 64GB ...</td>\n",
       "      <td>₹9,999</td>\n",
       "      <td>FREE delivery Sat, 23 Dec\\nOr fastest delivery...</td>\n",
       "      <td>https://www.amazon.in/sspa/click?ie=UTF8&amp;spc=M...</td>\n",
       "    </tr>\n",
       "    <tr>\n",
       "      <th>1</th>\n",
       "      <td>Samsung Galaxy A54 5G (Awesome Violet, 8GB, 25...</td>\n",
       "      <td>₹38,999</td>\n",
       "      <td>FREE delivery Sat, 23 Dec</td>\n",
       "      <td>https://www.amazon.in/sspa/click?ie=UTF8&amp;spc=M...</td>\n",
       "    </tr>\n",
       "    <tr>\n",
       "      <th>2</th>\n",
       "      <td>Redmi 13C (Stardust Black, 4GB RAM, 128GB Stor...</td>\n",
       "      <td>₹8,999</td>\n",
       "      <td>FREE delivery Sat, 23 Dec</td>\n",
       "      <td>https://www.amazon.in/Stardust-Storage-Display...</td>\n",
       "    </tr>\n",
       "    <tr>\n",
       "      <th>3</th>\n",
       "      <td>realme narzo N53 (Feather Black, 8GB+128GB) 33...</td>\n",
       "      <td>₹9,999</td>\n",
       "      <td>FREE delivery Sat, 23 Dec</td>\n",
       "      <td>https://www.amazon.in/realme-Feather-Segment-C...</td>\n",
       "    </tr>\n",
       "    <tr>\n",
       "      <th>4</th>\n",
       "      <td>realme narzo N53 (Feather Gold, 4GB+64GB) 33W ...</td>\n",
       "      <td>₹8,999</td>\n",
       "      <td>FREE delivery Sat, 23 Dec</td>\n",
       "      <td>https://www.amazon.in/realme-Feather-Segment-C...</td>\n",
       "    </tr>\n",
       "    <tr>\n",
       "      <th>...</th>\n",
       "      <td>...</td>\n",
       "      <td>...</td>\n",
       "      <td>...</td>\n",
       "      <td>...</td>\n",
       "    </tr>\n",
       "    <tr>\n",
       "      <th>61</th>\n",
       "      <td>Apple iPhone 13 (128GB) - Pink</td>\n",
       "      <td>₹53,499</td>\n",
       "      <td>FREE delivery Sat, 23 Dec</td>\n",
       "      <td>https://www.amazon.in/Apple-iPhone-13-128GB-Pi...</td>\n",
       "    </tr>\n",
       "    <tr>\n",
       "      <th>62</th>\n",
       "      <td>Redmi 12 5G Jade Black 8GB RAM 256GB ROM</td>\n",
       "      <td>₹15,499</td>\n",
       "      <td>FREE delivery Sat, 23 Dec</td>\n",
       "      <td>https://www.amazon.in/Redmi-Jade-Black-8GB-256...</td>\n",
       "    </tr>\n",
       "    <tr>\n",
       "      <th>63</th>\n",
       "      <td>Samsung Galaxy A14 5G (Black, 6GB, 128GB Stora...</td>\n",
       "      <td>₹16,999</td>\n",
       "      <td>FREE delivery Sat, 23 Dec</td>\n",
       "      <td>https://www.amazon.in/Samsung-Galaxy-Storage-W...</td>\n",
       "    </tr>\n",
       "    <tr>\n",
       "      <th>64</th>\n",
       "      <td>Samsung Galaxy A54 5G (Awesome Graphite, 8GB, ...</td>\n",
       "      <td>₹36,999</td>\n",
       "      <td>FREE delivery Sat, 23 Dec</td>\n",
       "      <td>https://www.amazon.in/sspa/click?ie=UTF8&amp;spc=M...</td>\n",
       "    </tr>\n",
       "    <tr>\n",
       "      <th>65</th>\n",
       "      <td>Redmi 13C (Starshine Green, 4GB RAM, 128GB Sto...</td>\n",
       "      <td>₹8,999</td>\n",
       "      <td>FREE delivery Sat, 23 Dec</td>\n",
       "      <td>https://www.amazon.in/sspa/click?ie=UTF8&amp;spc=M...</td>\n",
       "    </tr>\n",
       "  </tbody>\n",
       "</table>\n",
       "<p>66 rows × 4 columns</p>\n",
       "</div>"
      ],
      "text/plain": [
       "                                                Brand    Price  \\\n",
       "0   Samsung Galaxy M13 (Stardust Brown, 4GB, 64GB ...   ₹9,999   \n",
       "1   Samsung Galaxy A54 5G (Awesome Violet, 8GB, 25...  ₹38,999   \n",
       "2   Redmi 13C (Stardust Black, 4GB RAM, 128GB Stor...   ₹8,999   \n",
       "3   realme narzo N53 (Feather Black, 8GB+128GB) 33...   ₹9,999   \n",
       "4   realme narzo N53 (Feather Gold, 4GB+64GB) 33W ...   ₹8,999   \n",
       "..                                                ...      ...   \n",
       "61                     Apple iPhone 13 (128GB) - Pink  ₹53,499   \n",
       "62           Redmi 12 5G Jade Black 8GB RAM 256GB ROM  ₹15,499   \n",
       "63  Samsung Galaxy A14 5G (Black, 6GB, 128GB Stora...  ₹16,999   \n",
       "64  Samsung Galaxy A54 5G (Awesome Graphite, 8GB, ...  ₹36,999   \n",
       "65  Redmi 13C (Starshine Green, 4GB RAM, 128GB Sto...   ₹8,999   \n",
       "\n",
       "                                    Expected_delivery  \\\n",
       "0   FREE delivery Sat, 23 Dec\\nOr fastest delivery...   \n",
       "1                           FREE delivery Sat, 23 Dec   \n",
       "2                           FREE delivery Sat, 23 Dec   \n",
       "3                           FREE delivery Sat, 23 Dec   \n",
       "4                           FREE delivery Sat, 23 Dec   \n",
       "..                                                ...   \n",
       "61                          FREE delivery Sat, 23 Dec   \n",
       "62                          FREE delivery Sat, 23 Dec   \n",
       "63                          FREE delivery Sat, 23 Dec   \n",
       "64                          FREE delivery Sat, 23 Dec   \n",
       "65                          FREE delivery Sat, 23 Dec   \n",
       "\n",
       "                                                 Urls  \n",
       "0   https://www.amazon.in/sspa/click?ie=UTF8&spc=M...  \n",
       "1   https://www.amazon.in/sspa/click?ie=UTF8&spc=M...  \n",
       "2   https://www.amazon.in/Stardust-Storage-Display...  \n",
       "3   https://www.amazon.in/realme-Feather-Segment-C...  \n",
       "4   https://www.amazon.in/realme-Feather-Segment-C...  \n",
       "..                                                ...  \n",
       "61  https://www.amazon.in/Apple-iPhone-13-128GB-Pi...  \n",
       "62  https://www.amazon.in/Redmi-Jade-Black-8GB-256...  \n",
       "63  https://www.amazon.in/Samsung-Galaxy-Storage-W...  \n",
       "64  https://www.amazon.in/sspa/click?ie=UTF8&spc=M...  \n",
       "65  https://www.amazon.in/sspa/click?ie=UTF8&spc=M...  \n",
       "\n",
       "[66 rows x 4 columns]"
      ]
     },
     "execution_count": 10,
     "metadata": {},
     "output_type": "execute_result"
    }
   ],
   "source": [
    "# create dataframe\n",
    "data=pd.DataFrame({})\n",
    "data['Brand']= Brand_name\n",
    "data['Price']= price\n",
    "data['Expected_delivery']= Expected_delivery\n",
    "data['Urls']= url\n",
    "data"
   ]
  },
  {
   "cell_type": "code",
   "execution_count": 11,
   "id": "4d0c0644",
   "metadata": {},
   "outputs": [],
   "source": [
    "driver.close()"
   ]
  },
  {
   "cell_type": "markdown",
   "id": "d2473bc0",
   "metadata": {},
   "source": [
    "**Question 3**- Write a python program to access the search bar and search button on images.google.com and scrape 10\n",
    "images each for keywords ‘fruits’, ‘cars’ and ‘Machine Learning’, ‘Guitar’, ‘Cakes’. "
   ]
  },
  {
   "cell_type": "code",
   "execution_count": 12,
   "id": "275ab843",
   "metadata": {},
   "outputs": [],
   "source": [
    "# import necessary library\n",
    "import selenium\n",
    "import pandas as pd\n",
    "import requests\n",
    "from selenium import webdriver\n",
    "import warnings\n",
    "warnings.filterwarnings('ignore')\n",
    "from selenium.webdriver.common.by import By\n",
    "import time"
   ]
  },
  {
   "cell_type": "code",
   "execution_count": 13,
   "id": "06c3495c",
   "metadata": {},
   "outputs": [],
   "source": [
    "driver = webdriver.Chrome()"
   ]
  },
  {
   "cell_type": "code",
   "execution_count": 14,
   "id": "941107b0",
   "metadata": {},
   "outputs": [],
   "source": [
    "#open the google image page on automated chrome browser\n",
    "driver.get(\"https://images.google.com/\")"
   ]
  },
  {
   "cell_type": "code",
   "execution_count": 15,
   "id": "bdf577de",
   "metadata": {},
   "outputs": [],
   "source": [
    "# search the search bar and enter the product\n",
    "search_bar = driver.find_element(By.XPATH,'//textarea[@class=\"gLFyf\"]')\n",
    "search_bar.send_keys(\"fruits\")"
   ]
  },
  {
   "cell_type": "code",
   "execution_count": 16,
   "id": "6c5086db",
   "metadata": {},
   "outputs": [],
   "source": [
    "# search button\n",
    "button = driver.find_element(By.CLASS_NAME,\"Tg7LZd\")\n",
    "button.click()"
   ]
  },
  {
   "cell_type": "code",
   "execution_count": 17,
   "id": "1f5c2a4c",
   "metadata": {},
   "outputs": [
    {
     "name": "stdout",
     "output_type": "stream",
     "text": [
      "scroll page for generate more images\n"
     ]
    }
   ],
   "source": [
    "# 500 time we scroll down by 10000 in order to generate more images on the website.\n",
    "print(\"scroll page for generate more images\")\n",
    "for _ in range(500):\n",
    "    driver.execute_script(\"window.scrollBy(0,10000)\")"
   ]
  },
  {
   "cell_type": "code",
   "execution_count": 18,
   "id": "61b809f1",
   "metadata": {},
   "outputs": [],
   "source": [
    "fruit = driver.find_elements(By.XPATH,'//img[@class=\"rg_i Q4LuWd\"]')"
   ]
  },
  {
   "cell_type": "code",
   "execution_count": 19,
   "id": "17e20ec0",
   "metadata": {},
   "outputs": [
    {
     "data": {
      "text/plain": [
       "122"
      ]
     },
     "execution_count": 19,
     "metadata": {},
     "output_type": "execute_result"
    }
   ],
   "source": [
    "fruit_url = []\n",
    "urls = []\n",
    "for i in fruit:\n",
    "    f = i.get_attribute('src')\n",
    "    if f is not None:\n",
    "        if(f[0:4] == 'http'):\n",
    "            fruit_url.append(f)\n",
    "len(fruit_url)"
   ]
  },
  {
   "cell_type": "code",
   "execution_count": 20,
   "id": "79ed9806",
   "metadata": {},
   "outputs": [
    {
     "data": {
      "text/plain": [
       "['https://encrypted-tbn0.gstatic.com/images?q=tbn:ANd9GcR_rwu7jbG7rNqe9iSW3FlzU-VJ5fG4pEdSBQ&usqp=CAU',\n",
       " 'https://encrypted-tbn0.gstatic.com/images?q=tbn:ANd9GcR6eB6Rh9xKB143zloaKF4P_prDRIrDwz1Fpg&usqp=CAU',\n",
       " 'https://encrypted-tbn0.gstatic.com/images?q=tbn:ANd9GcSAPjEqQKpu9wBOH2GcXqTs37oJLKmpA98Bjw&usqp=CAU',\n",
       " 'https://encrypted-tbn0.gstatic.com/images?q=tbn:ANd9GcRmu9OJRAE3HE04HzrITLVXCHN3iL2tTJgZ1g&usqp=CAU',\n",
       " 'https://encrypted-tbn0.gstatic.com/images?q=tbn:ANd9GcT7lsKmrMDNHctlVwGoMg_lvhd7o36pDCg0XA&usqp=CAU',\n",
       " 'https://encrypted-tbn0.gstatic.com/images?q=tbn:ANd9GcQ7ktXqFKIgSX6j67q1PoU_tLL4B3dJn2vQ2g&usqp=CAU',\n",
       " 'https://encrypted-tbn0.gstatic.com/images?q=tbn:ANd9GcQz2B_Ej--kdjzLHUeXtR-uy2D_AKboIsthpA&usqp=CAU',\n",
       " 'https://encrypted-tbn0.gstatic.com/images?q=tbn:ANd9GcQQL_VIWv1lmjXNpK4WLNGxzlwhe_-cdHzTRA&usqp=CAU',\n",
       " 'https://encrypted-tbn0.gstatic.com/images?q=tbn:ANd9GcR1k657qIWQZN9iyK6qRt_H86nmhS46ebRAgA&usqp=CAU',\n",
       " 'https://encrypted-tbn0.gstatic.com/images?q=tbn:ANd9GcS1WeRYMW_EcmsiArgXLOfmTCNyVKeYNfj6Pg&usqp=CAU']"
      ]
     },
     "execution_count": 20,
     "metadata": {},
     "output_type": "execute_result"
    }
   ],
   "source": [
    "fruit_url[:10]"
   ]
  },
  {
   "cell_type": "code",
   "execution_count": 21,
   "id": "ae85438e",
   "metadata": {},
   "outputs": [
    {
     "name": "stdout",
     "output_type": "stream",
     "text": [
      "Downloading 0 of 10 images\n",
      "Downloading 1 of 10 images\n",
      "Downloading 2 of 10 images\n",
      "Downloading 3 of 10 images\n",
      "Downloading 4 of 10 images\n",
      "Downloading 5 of 10 images\n",
      "Downloading 6 of 10 images\n",
      "Downloading 7 of 10 images\n",
      "Downloading 8 of 10 images\n",
      "Downloading 9 of 10 images\n"
     ]
    }
   ],
   "source": [
    "#Download\n",
    "for i in range(len(fruit_url)):\n",
    "    if i >= 10:\n",
    "        break\n",
    "    print(\"Downloading {0} of {1} images\" .format(i, 10))\n",
    "    response= requests.get(fruit_url[i])"
   ]
  },
  {
   "cell_type": "code",
   "execution_count": 22,
   "id": "d01703ab",
   "metadata": {},
   "outputs": [],
   "source": [
    "driver.close()"
   ]
  },
  {
   "cell_type": "code",
   "execution_count": 23,
   "id": "33295777",
   "metadata": {},
   "outputs": [],
   "source": [
    "driver = webdriver.Chrome()"
   ]
  },
  {
   "cell_type": "code",
   "execution_count": 24,
   "id": "dc97be1d",
   "metadata": {},
   "outputs": [],
   "source": [
    "#open the google image page on automated chrome browser\n",
    "driver.get(\"https://images.google.com/\")"
   ]
  },
  {
   "cell_type": "code",
   "execution_count": 25,
   "id": "0a91e64c",
   "metadata": {},
   "outputs": [],
   "source": [
    "# search the search bar and enter the product\n",
    "search_bar = driver.find_element(By.XPATH,'//textarea[@class=\"gLFyf\"]')\n",
    "search_bar.send_keys(\"cars\")"
   ]
  },
  {
   "cell_type": "code",
   "execution_count": 26,
   "id": "b4ebb8e7",
   "metadata": {},
   "outputs": [],
   "source": [
    "#search button\n",
    "button = driver.find_element(By.CLASS_NAME,\"Tg7LZd\")\n",
    "button.click()"
   ]
  },
  {
   "cell_type": "code",
   "execution_count": 27,
   "id": "d0cffd8b",
   "metadata": {},
   "outputs": [
    {
     "name": "stdout",
     "output_type": "stream",
     "text": [
      "scroll page for generate more images\n"
     ]
    }
   ],
   "source": [
    "# 500 time we scroll down by 10000 in order to generate more images on the website.\n",
    "print(\"scroll page for generate more images\")\n",
    "for _ in range(500):\n",
    "    driver.execute_script(\"window.scrollBy(0,10000)\")"
   ]
  },
  {
   "cell_type": "code",
   "execution_count": 28,
   "id": "23282bf2",
   "metadata": {},
   "outputs": [],
   "source": [
    "car = driver.find_elements(By.XPATH,'//img[@class=\"rg_i Q4LuWd\"]')"
   ]
  },
  {
   "cell_type": "code",
   "execution_count": 32,
   "id": "f49fb785",
   "metadata": {},
   "outputs": [
    {
     "data": {
      "text/plain": [
       "122"
      ]
     },
     "execution_count": 32,
     "metadata": {},
     "output_type": "execute_result"
    }
   ],
   "source": [
    "car_url = []\n",
    "urls = []\n",
    "for i in car:\n",
    "    f = i.get_attribute('src')\n",
    "    if f is not None:\n",
    "        if(f[0:4] == 'http'):\n",
    "            car_url.append(f)\n",
    "len(fruit_url)"
   ]
  },
  {
   "cell_type": "code",
   "execution_count": 33,
   "id": "a4260db6",
   "metadata": {},
   "outputs": [
    {
     "data": {
      "text/plain": [
       "['https://encrypted-tbn0.gstatic.com/images?q=tbn:ANd9GcRMwjK_-B_A1isSaozsCiPZZ7d4jqEB_xpNWQ&usqp=CAU',\n",
       " 'https://encrypted-tbn0.gstatic.com/images?q=tbn:ANd9GcQJOXtvD2gKgYxBTR7HvugoAFpwYlbkGPJK7w&usqp=CAU',\n",
       " 'https://encrypted-tbn0.gstatic.com/images?q=tbn:ANd9GcQfWCO85BV8I3eQLWrvhPGpuSYGPu_z0hFuDw&usqp=CAU',\n",
       " 'https://encrypted-tbn0.gstatic.com/images?q=tbn:ANd9GcSiabTcCMmn_18aCdFF0U7c_FU5zQgVruph9A&usqp=CAU',\n",
       " 'https://encrypted-tbn0.gstatic.com/images?q=tbn:ANd9GcT_uNb_OKBUSmq2fqZqrTJmv4HwJ9IOeYIrqQ&usqp=CAU',\n",
       " 'https://encrypted-tbn0.gstatic.com/images?q=tbn:ANd9GcSTrIAFjq7wpks8P4FbpkDq1P2L4ZWkjXeUmw&usqp=CAU',\n",
       " 'https://encrypted-tbn0.gstatic.com/images?q=tbn:ANd9GcSaxfbswq6Y33m-49_iDXlvdYHI_3ux83ZQ8w&usqp=CAU',\n",
       " 'https://encrypted-tbn0.gstatic.com/images?q=tbn:ANd9GcQK2AjfBpDCiYfbjfqZm1cZySLUe49m_YyCpg&usqp=CAU',\n",
       " 'https://encrypted-tbn0.gstatic.com/images?q=tbn:ANd9GcRLxSkwhfRx5n1mZP1EgH04eqfpBgFqjy4B-w&usqp=CAU',\n",
       " 'https://encrypted-tbn0.gstatic.com/images?q=tbn:ANd9GcQDi_zdGzIbMHG6ncmi8ZUj1xBvR2Reefh7og&usqp=CAU']"
      ]
     },
     "execution_count": 33,
     "metadata": {},
     "output_type": "execute_result"
    }
   ],
   "source": [
    "car_url[:10]"
   ]
  },
  {
   "cell_type": "code",
   "execution_count": 34,
   "id": "c7b7413d",
   "metadata": {},
   "outputs": [
    {
     "name": "stdout",
     "output_type": "stream",
     "text": [
      "Downloading 0 of 10 images\n",
      "Downloading 1 of 10 images\n",
      "Downloading 2 of 10 images\n",
      "Downloading 3 of 10 images\n",
      "Downloading 4 of 10 images\n",
      "Downloading 5 of 10 images\n",
      "Downloading 6 of 10 images\n",
      "Downloading 7 of 10 images\n",
      "Downloading 8 of 10 images\n",
      "Downloading 9 of 10 images\n"
     ]
    }
   ],
   "source": [
    "#download\n",
    "for i in range(len(car_url)):\n",
    "    if i >= 10:\n",
    "        break\n",
    "    print(\"Downloading {0} of {1} images\" .format(i, 10))\n",
    "    response= requests.get(car_url[i])"
   ]
  },
  {
   "cell_type": "code",
   "execution_count": 35,
   "id": "752a4dc0",
   "metadata": {},
   "outputs": [],
   "source": [
    "driver.close()"
   ]
  },
  {
   "cell_type": "code",
   "execution_count": 36,
   "id": "4c973e7f",
   "metadata": {},
   "outputs": [],
   "source": [
    "driver = webdriver.Chrome()"
   ]
  },
  {
   "cell_type": "code",
   "execution_count": 37,
   "id": "ec171956",
   "metadata": {},
   "outputs": [],
   "source": [
    "#open the google image page on automated chrome browser\n",
    "driver.get(\"https://images.google.com/\")"
   ]
  },
  {
   "cell_type": "code",
   "execution_count": 38,
   "id": "53e078f7",
   "metadata": {},
   "outputs": [],
   "source": [
    "# search the search bar and enter the product\n",
    "search_bar = driver.find_element(By.XPATH,'//textarea[@class=\"gLFyf\"]')\n",
    "search_bar.send_keys(\"Machine Learning\")"
   ]
  },
  {
   "cell_type": "code",
   "execution_count": 39,
   "id": "da44d98e",
   "metadata": {},
   "outputs": [],
   "source": [
    "# search button\n",
    "button = driver.find_element(By.CLASS_NAME,\"Tg7LZd\")\n",
    "button.click()"
   ]
  },
  {
   "cell_type": "code",
   "execution_count": 40,
   "id": "323f77fc",
   "metadata": {},
   "outputs": [
    {
     "name": "stdout",
     "output_type": "stream",
     "text": [
      "scroll page for generate more images\n"
     ]
    }
   ],
   "source": [
    "# 500 time we scroll down by 10000 in order to generate more images on the website.\n",
    "print(\"scroll page for generate more images\")\n",
    "for _ in range(500):\n",
    "    driver.execute_script(\"window.scrollBy(0,10000)\")"
   ]
  },
  {
   "cell_type": "code",
   "execution_count": 41,
   "id": "975a3d86",
   "metadata": {},
   "outputs": [],
   "source": [
    "Machine = driver.find_elements(By.XPATH,'//img[@class=\"rg_i Q4LuWd\"]')"
   ]
  },
  {
   "cell_type": "code",
   "execution_count": 42,
   "id": "7ac24466",
   "metadata": {},
   "outputs": [
    {
     "data": {
      "text/plain": [
       "61"
      ]
     },
     "execution_count": 42,
     "metadata": {},
     "output_type": "execute_result"
    }
   ],
   "source": [
    "Machine_url = []\n",
    "urls = []\n",
    "for i in Machine:\n",
    "    f = i.get_attribute('src')\n",
    "    if f is not None:\n",
    "        if(f[0:4] == 'http'):\n",
    "            Machine_url.append(f)\n",
    "len(Machine_url)"
   ]
  },
  {
   "cell_type": "code",
   "execution_count": 43,
   "id": "84e84737",
   "metadata": {},
   "outputs": [
    {
     "data": {
      "text/plain": [
       "['https://encrypted-tbn0.gstatic.com/images?q=tbn:ANd9GcRDcahzaEMw6G0YrjLEyXiATgh0dRWSEypgvA&usqp=CAU',\n",
       " 'https://encrypted-tbn0.gstatic.com/images?q=tbn:ANd9GcRLgEXXkux62RGOdM_msWxvlfRvo71hTraVcQ&usqp=CAU',\n",
       " 'https://encrypted-tbn0.gstatic.com/images?q=tbn:ANd9GcTpYNmvC3yn7P9Aae_eauaCFTmMk2rdyFFWEw&usqp=CAU',\n",
       " 'https://encrypted-tbn0.gstatic.com/images?q=tbn:ANd9GcQ7GyeM_L5BPw_TI9k_kO8HoXp2YXFQw2T_4A&usqp=CAU',\n",
       " 'https://encrypted-tbn0.gstatic.com/images?q=tbn:ANd9GcTLeh_4ypgzJDrGt3iHuM4_JOKUnv5XdZXwew&usqp=CAU',\n",
       " 'https://encrypted-tbn0.gstatic.com/images?q=tbn:ANd9GcSU7ECaQfiwYJGKj8rK7Bby8zjNr5I8H2iPzw&usqp=CAU',\n",
       " 'https://encrypted-tbn0.gstatic.com/images?q=tbn:ANd9GcRrNKXDVWQZzTU8IgBDutUQV9GJXgHQp5R7cA&usqp=CAU',\n",
       " 'https://encrypted-tbn0.gstatic.com/images?q=tbn:ANd9GcQ41lSEXYBpUXQQj1Pk4hXuaG1_adlva6uaSA&usqp=CAU',\n",
       " 'https://encrypted-tbn0.gstatic.com/images?q=tbn:ANd9GcTBaw4gxYODcJMhv80IykME8OUlXtlZUgggig&usqp=CAU',\n",
       " 'https://encrypted-tbn0.gstatic.com/images?q=tbn:ANd9GcRa-Jy2G41wy6YDsDUvz_eVDXAU8VU9ZQk1bg&usqp=CAU']"
      ]
     },
     "execution_count": 43,
     "metadata": {},
     "output_type": "execute_result"
    }
   ],
   "source": [
    "Machine_url[:10]"
   ]
  },
  {
   "cell_type": "code",
   "execution_count": 44,
   "id": "f73d49a4",
   "metadata": {},
   "outputs": [
    {
     "name": "stdout",
     "output_type": "stream",
     "text": [
      "Downloading 0 of 10 images\n",
      "Downloading 1 of 10 images\n",
      "Downloading 2 of 10 images\n",
      "Downloading 3 of 10 images\n",
      "Downloading 4 of 10 images\n",
      "Downloading 5 of 10 images\n",
      "Downloading 6 of 10 images\n",
      "Downloading 7 of 10 images\n",
      "Downloading 8 of 10 images\n",
      "Downloading 9 of 10 images\n"
     ]
    }
   ],
   "source": [
    "#downloading\n",
    "for i in range(len(Machine_url)):\n",
    "    if i >= 10:\n",
    "        break\n",
    "    print(\"Downloading {0} of {1} images\" .format(i, 10))\n",
    "    response= requests.get(Machine_url[i])"
   ]
  },
  {
   "cell_type": "code",
   "execution_count": 45,
   "id": "4645b598",
   "metadata": {},
   "outputs": [],
   "source": [
    "driver.close()"
   ]
  },
  {
   "cell_type": "code",
   "execution_count": 46,
   "id": "f6048700",
   "metadata": {},
   "outputs": [],
   "source": [
    "driver = webdriver.Chrome()"
   ]
  },
  {
   "cell_type": "code",
   "execution_count": 47,
   "id": "8e618c55",
   "metadata": {},
   "outputs": [],
   "source": [
    "#open the google image page on automated chrome browser\n",
    "driver.get(\"https://images.google.com/\")"
   ]
  },
  {
   "cell_type": "code",
   "execution_count": 48,
   "id": "84d76b83",
   "metadata": {},
   "outputs": [],
   "source": [
    "# search the search bar and enter the product\n",
    "search_bar = driver.find_element(By.XPATH,'//textarea[@class=\"gLFyf\"]')\n",
    "search_bar.send_keys(\"Guitar\")"
   ]
  },
  {
   "cell_type": "code",
   "execution_count": 49,
   "id": "2033d676",
   "metadata": {},
   "outputs": [],
   "source": [
    "# search button\n",
    "button = driver.find_element(By.CLASS_NAME,\"Tg7LZd\")\n",
    "button.click()"
   ]
  },
  {
   "cell_type": "code",
   "execution_count": 50,
   "id": "3bfdd9c7",
   "metadata": {},
   "outputs": [
    {
     "name": "stdout",
     "output_type": "stream",
     "text": [
      "scroll page for generate more images\n"
     ]
    }
   ],
   "source": [
    "# 500 time we scroll down by 10000 in order to generate more images on the website.\n",
    "print(\"scroll page for generate more images\")\n",
    "for _ in range(500):\n",
    "    driver.execute_script(\"window.scrollBy(0,10000)\")"
   ]
  },
  {
   "cell_type": "code",
   "execution_count": 51,
   "id": "48e78278",
   "metadata": {},
   "outputs": [],
   "source": [
    "Guitar = driver.find_elements(By.XPATH,'//img[@class=\"rg_i Q4LuWd\"]')"
   ]
  },
  {
   "cell_type": "code",
   "execution_count": 52,
   "id": "9cd4b25e",
   "metadata": {},
   "outputs": [
    {
     "data": {
      "text/plain": [
       "151"
      ]
     },
     "execution_count": 52,
     "metadata": {},
     "output_type": "execute_result"
    }
   ],
   "source": [
    "Guitar_url = []\n",
    "urls = []\n",
    "for i in Guitar:\n",
    "    f = i.get_attribute('src')\n",
    "    if f is not None:\n",
    "        if(f[0:4] == 'http'):\n",
    "            Guitar_url.append(f)\n",
    "len(Guitar_url)"
   ]
  },
  {
   "cell_type": "code",
   "execution_count": 53,
   "id": "196b4a60",
   "metadata": {},
   "outputs": [
    {
     "data": {
      "text/plain": [
       "['https://encrypted-tbn0.gstatic.com/images?q=tbn:ANd9GcSiXDVNQhE3XJ1xFeqEg0rg02m7ZvCann_RcA&usqp=CAU',\n",
       " 'https://encrypted-tbn0.gstatic.com/images?q=tbn:ANd9GcSDtQNqVFET53tokgGqDlaV_Tkl62lzYgkAPw&usqp=CAU',\n",
       " 'https://encrypted-tbn0.gstatic.com/images?q=tbn:ANd9GcS9eSKIP8W2EaCt3czjGKSVchOej7aC9BSbKg&usqp=CAU',\n",
       " 'https://encrypted-tbn0.gstatic.com/images?q=tbn:ANd9GcQoTATS-Zx9dBqq2I502fislXfN7wLDlSyqIA&usqp=CAU',\n",
       " 'https://encrypted-tbn0.gstatic.com/images?q=tbn:ANd9GcR8erc3DM87l5uOzigAdRlHUqnEZp2LjWwJoQ&usqp=CAU',\n",
       " 'https://encrypted-tbn0.gstatic.com/images?q=tbn:ANd9GcRQGIkgAD3bXjUyqsHEKm5W7qg8qTaaMejIuQ&usqp=CAU',\n",
       " 'https://encrypted-tbn0.gstatic.com/images?q=tbn:ANd9GcSzhlfIPbLO01PlEyHmvQt1fpOikOu2I3gaNQ&usqp=CAU',\n",
       " 'https://encrypted-tbn0.gstatic.com/images?q=tbn:ANd9GcTngCu1uhYv4fiRe_YnvVMJGZ4KnBZP-et6jQ&usqp=CAU',\n",
       " 'https://encrypted-tbn0.gstatic.com/images?q=tbn:ANd9GcTvxxXuLFMz3WXvwPaqWRm6KMpg3H34a25usA&usqp=CAU',\n",
       " 'https://encrypted-tbn0.gstatic.com/images?q=tbn:ANd9GcSkLusSx0eRp4FTqkhYRsALhcL_Wu82OPEVCg&usqp=CAU']"
      ]
     },
     "execution_count": 53,
     "metadata": {},
     "output_type": "execute_result"
    }
   ],
   "source": [
    "Guitar_url[:10]"
   ]
  },
  {
   "cell_type": "code",
   "execution_count": 54,
   "id": "e3b9d88c",
   "metadata": {},
   "outputs": [
    {
     "name": "stdout",
     "output_type": "stream",
     "text": [
      "Downloading 0 of 10 images\n",
      "Downloading 1 of 10 images\n",
      "Downloading 2 of 10 images\n",
      "Downloading 3 of 10 images\n",
      "Downloading 4 of 10 images\n",
      "Downloading 5 of 10 images\n",
      "Downloading 6 of 10 images\n",
      "Downloading 7 of 10 images\n",
      "Downloading 8 of 10 images\n",
      "Downloading 9 of 10 images\n"
     ]
    }
   ],
   "source": [
    "# downloading.....\n",
    "for i in range(len(Guitar_url)):\n",
    "    if i >= 10:\n",
    "        break\n",
    "    print(\"Downloading {0} of {1} images\" .format(i, 10))\n",
    "    response= requests.get(Guitar_url[i])"
   ]
  },
  {
   "cell_type": "code",
   "execution_count": 55,
   "id": "0398b397",
   "metadata": {},
   "outputs": [],
   "source": [
    "driver.close()"
   ]
  },
  {
   "cell_type": "code",
   "execution_count": 56,
   "id": "c1a11593",
   "metadata": {},
   "outputs": [],
   "source": [
    "driver = webdriver.Chrome()"
   ]
  },
  {
   "cell_type": "code",
   "execution_count": 57,
   "id": "de6e5b39",
   "metadata": {},
   "outputs": [],
   "source": [
    "#open the google image page on automated chrome browser\n",
    "driver.get(\"https://images.google.com/\")"
   ]
  },
  {
   "cell_type": "code",
   "execution_count": 58,
   "id": "7978922e",
   "metadata": {},
   "outputs": [],
   "source": [
    "# search the search bar and enter the product\n",
    "search_bar = driver.find_element(By.XPATH,'//textarea[@class=\"gLFyf\"]')\n",
    "search_bar.send_keys(\"cakes\")"
   ]
  },
  {
   "cell_type": "code",
   "execution_count": 59,
   "id": "46ba9fb1",
   "metadata": {},
   "outputs": [],
   "source": [
    "#search button\n",
    "button = driver.find_element(By.CLASS_NAME,\"Tg7LZd\")\n",
    "button.click()"
   ]
  },
  {
   "cell_type": "code",
   "execution_count": 60,
   "id": "0217d1ab",
   "metadata": {},
   "outputs": [
    {
     "name": "stdout",
     "output_type": "stream",
     "text": [
      "scroll page for generate more images\n"
     ]
    }
   ],
   "source": [
    "# 500 time we scroll down by 10000 in order to generate more images on the website.\n",
    "print(\"scroll page for generate more images\")\n",
    "for _ in range(1000):\n",
    "    driver.execute_script(\"window.scrollBy(0,10000)\")"
   ]
  },
  {
   "cell_type": "code",
   "execution_count": 61,
   "id": "bf1ea0f1",
   "metadata": {},
   "outputs": [],
   "source": [
    "cakes = driver.find_elements(By.XPATH,'//img[@class=\"rg_i Q4LuWd\"]')"
   ]
  },
  {
   "cell_type": "code",
   "execution_count": 62,
   "id": "1c871c8b",
   "metadata": {},
   "outputs": [
    {
     "data": {
      "text/plain": [
       "167"
      ]
     },
     "execution_count": 62,
     "metadata": {},
     "output_type": "execute_result"
    }
   ],
   "source": [
    "cakes_url = []\n",
    "urls = []\n",
    "for i in cakes:\n",
    "    f = i.get_attribute('src')\n",
    "    if f is not None:\n",
    "        if(f[0:4] == 'http'):\n",
    "            cakes_url.append(f)\n",
    "len(cakes_url)"
   ]
  },
  {
   "cell_type": "code",
   "execution_count": 63,
   "id": "a86610a9",
   "metadata": {},
   "outputs": [
    {
     "data": {
      "text/plain": [
       "['https://encrypted-tbn0.gstatic.com/images?q=tbn:ANd9GcSJbyNkIRxhrPjwwjDCcNSD9h7aGDbqrUeTvw&usqp=CAU',\n",
       " 'https://encrypted-tbn0.gstatic.com/images?q=tbn:ANd9GcT0A6rJy0r4J4V-8we77nXbdRWLyw6IvRguMg&usqp=CAU',\n",
       " 'https://encrypted-tbn0.gstatic.com/images?q=tbn:ANd9GcQBnfTXs9DpaPffvPTpjsS2XrGmEqiS1PebKA&usqp=CAU',\n",
       " 'https://encrypted-tbn0.gstatic.com/images?q=tbn:ANd9GcQHnW35ToolirO4s4JCNltuB2nmXyKcfUh5JA&usqp=CAU',\n",
       " 'https://encrypted-tbn0.gstatic.com/images?q=tbn:ANd9GcSFCMcauzpdR6OT260KfI0Y51LxEoJn4MSgPw&usqp=CAU',\n",
       " 'https://encrypted-tbn0.gstatic.com/images?q=tbn:ANd9GcRI3ZacVrB-WBy_FQ0sjtoKOQe_RETb8knptw&usqp=CAU',\n",
       " 'https://encrypted-tbn0.gstatic.com/images?q=tbn:ANd9GcTqddrmY7hFkGpGotP4QTleP7mB3J8lz6FCJg&usqp=CAU',\n",
       " 'https://encrypted-tbn0.gstatic.com/images?q=tbn:ANd9GcSfASxaR5yaImnEtXIMMCdFamnl1oZiK6MVGg&usqp=CAU',\n",
       " 'https://encrypted-tbn0.gstatic.com/images?q=tbn:ANd9GcTxxru_sy9j32KMCKpUmD_rqTU4E3kBzqkFfQ&usqp=CAU',\n",
       " 'https://encrypted-tbn0.gstatic.com/images?q=tbn:ANd9GcQUx068aG42x_z6LG65SP6vP3lJQnDt8u9buw&usqp=CAU']"
      ]
     },
     "execution_count": 63,
     "metadata": {},
     "output_type": "execute_result"
    }
   ],
   "source": [
    "cakes_url[:10]"
   ]
  },
  {
   "cell_type": "code",
   "execution_count": 64,
   "id": "a204cb16",
   "metadata": {},
   "outputs": [
    {
     "name": "stdout",
     "output_type": "stream",
     "text": [
      "Downloading 0 of 10 images\n",
      "Downloading 1 of 10 images\n",
      "Downloading 2 of 10 images\n",
      "Downloading 3 of 10 images\n",
      "Downloading 4 of 10 images\n",
      "Downloading 5 of 10 images\n",
      "Downloading 6 of 10 images\n",
      "Downloading 7 of 10 images\n",
      "Downloading 8 of 10 images\n",
      "Downloading 9 of 10 images\n"
     ]
    }
   ],
   "source": [
    "# downloading.....\n",
    "for i in range(len(cakes_url)):\n",
    "    if i >= 10:\n",
    "        break\n",
    "    print(\"Downloading {0} of {1} images\" .format(i, 10))\n",
    "    response= requests.get(cakes_url[i])"
   ]
  },
  {
   "cell_type": "code",
   "execution_count": 65,
   "id": "3fb888d4",
   "metadata": {},
   "outputs": [],
   "source": [
    "driver.close()"
   ]
  },
  {
   "cell_type": "code",
   "execution_count": 66,
   "id": "7c7970c3",
   "metadata": {},
   "outputs": [
    {
     "data": {
      "text/html": [
       "<div>\n",
       "<style scoped>\n",
       "    .dataframe tbody tr th:only-of-type {\n",
       "        vertical-align: middle;\n",
       "    }\n",
       "\n",
       "    .dataframe tbody tr th {\n",
       "        vertical-align: top;\n",
       "    }\n",
       "\n",
       "    .dataframe thead th {\n",
       "        text-align: right;\n",
       "    }\n",
       "</style>\n",
       "<table border=\"1\" class=\"dataframe\">\n",
       "  <thead>\n",
       "    <tr style=\"text-align: right;\">\n",
       "      <th></th>\n",
       "      <th>Fruits</th>\n",
       "      <th>Cars</th>\n",
       "      <th>Machine_Learning</th>\n",
       "      <th>Guitar</th>\n",
       "      <th>Cakes</th>\n",
       "    </tr>\n",
       "  </thead>\n",
       "  <tbody>\n",
       "    <tr>\n",
       "      <th>0</th>\n",
       "      <td>https://encrypted-tbn0.gstatic.com/images?q=tb...</td>\n",
       "      <td>https://encrypted-tbn0.gstatic.com/images?q=tb...</td>\n",
       "      <td>https://encrypted-tbn0.gstatic.com/images?q=tb...</td>\n",
       "      <td>https://encrypted-tbn0.gstatic.com/images?q=tb...</td>\n",
       "      <td>https://encrypted-tbn0.gstatic.com/images?q=tb...</td>\n",
       "    </tr>\n",
       "    <tr>\n",
       "      <th>1</th>\n",
       "      <td>https://encrypted-tbn0.gstatic.com/images?q=tb...</td>\n",
       "      <td>https://encrypted-tbn0.gstatic.com/images?q=tb...</td>\n",
       "      <td>https://encrypted-tbn0.gstatic.com/images?q=tb...</td>\n",
       "      <td>https://encrypted-tbn0.gstatic.com/images?q=tb...</td>\n",
       "      <td>https://encrypted-tbn0.gstatic.com/images?q=tb...</td>\n",
       "    </tr>\n",
       "    <tr>\n",
       "      <th>2</th>\n",
       "      <td>https://encrypted-tbn0.gstatic.com/images?q=tb...</td>\n",
       "      <td>https://encrypted-tbn0.gstatic.com/images?q=tb...</td>\n",
       "      <td>https://encrypted-tbn0.gstatic.com/images?q=tb...</td>\n",
       "      <td>https://encrypted-tbn0.gstatic.com/images?q=tb...</td>\n",
       "      <td>https://encrypted-tbn0.gstatic.com/images?q=tb...</td>\n",
       "    </tr>\n",
       "    <tr>\n",
       "      <th>3</th>\n",
       "      <td>https://encrypted-tbn0.gstatic.com/images?q=tb...</td>\n",
       "      <td>https://encrypted-tbn0.gstatic.com/images?q=tb...</td>\n",
       "      <td>https://encrypted-tbn0.gstatic.com/images?q=tb...</td>\n",
       "      <td>https://encrypted-tbn0.gstatic.com/images?q=tb...</td>\n",
       "      <td>https://encrypted-tbn0.gstatic.com/images?q=tb...</td>\n",
       "    </tr>\n",
       "    <tr>\n",
       "      <th>4</th>\n",
       "      <td>https://encrypted-tbn0.gstatic.com/images?q=tb...</td>\n",
       "      <td>https://encrypted-tbn0.gstatic.com/images?q=tb...</td>\n",
       "      <td>https://encrypted-tbn0.gstatic.com/images?q=tb...</td>\n",
       "      <td>https://encrypted-tbn0.gstatic.com/images?q=tb...</td>\n",
       "      <td>https://encrypted-tbn0.gstatic.com/images?q=tb...</td>\n",
       "    </tr>\n",
       "    <tr>\n",
       "      <th>5</th>\n",
       "      <td>https://encrypted-tbn0.gstatic.com/images?q=tb...</td>\n",
       "      <td>https://encrypted-tbn0.gstatic.com/images?q=tb...</td>\n",
       "      <td>https://encrypted-tbn0.gstatic.com/images?q=tb...</td>\n",
       "      <td>https://encrypted-tbn0.gstatic.com/images?q=tb...</td>\n",
       "      <td>https://encrypted-tbn0.gstatic.com/images?q=tb...</td>\n",
       "    </tr>\n",
       "    <tr>\n",
       "      <th>6</th>\n",
       "      <td>https://encrypted-tbn0.gstatic.com/images?q=tb...</td>\n",
       "      <td>https://encrypted-tbn0.gstatic.com/images?q=tb...</td>\n",
       "      <td>https://encrypted-tbn0.gstatic.com/images?q=tb...</td>\n",
       "      <td>https://encrypted-tbn0.gstatic.com/images?q=tb...</td>\n",
       "      <td>https://encrypted-tbn0.gstatic.com/images?q=tb...</td>\n",
       "    </tr>\n",
       "    <tr>\n",
       "      <th>7</th>\n",
       "      <td>https://encrypted-tbn0.gstatic.com/images?q=tb...</td>\n",
       "      <td>https://encrypted-tbn0.gstatic.com/images?q=tb...</td>\n",
       "      <td>https://encrypted-tbn0.gstatic.com/images?q=tb...</td>\n",
       "      <td>https://encrypted-tbn0.gstatic.com/images?q=tb...</td>\n",
       "      <td>https://encrypted-tbn0.gstatic.com/images?q=tb...</td>\n",
       "    </tr>\n",
       "    <tr>\n",
       "      <th>8</th>\n",
       "      <td>https://encrypted-tbn0.gstatic.com/images?q=tb...</td>\n",
       "      <td>https://encrypted-tbn0.gstatic.com/images?q=tb...</td>\n",
       "      <td>https://encrypted-tbn0.gstatic.com/images?q=tb...</td>\n",
       "      <td>https://encrypted-tbn0.gstatic.com/images?q=tb...</td>\n",
       "      <td>https://encrypted-tbn0.gstatic.com/images?q=tb...</td>\n",
       "    </tr>\n",
       "    <tr>\n",
       "      <th>9</th>\n",
       "      <td>https://encrypted-tbn0.gstatic.com/images?q=tb...</td>\n",
       "      <td>https://encrypted-tbn0.gstatic.com/images?q=tb...</td>\n",
       "      <td>https://encrypted-tbn0.gstatic.com/images?q=tb...</td>\n",
       "      <td>https://encrypted-tbn0.gstatic.com/images?q=tb...</td>\n",
       "      <td>https://encrypted-tbn0.gstatic.com/images?q=tb...</td>\n",
       "    </tr>\n",
       "  </tbody>\n",
       "</table>\n",
       "</div>"
      ],
      "text/plain": [
       "                                              Fruits  \\\n",
       "0  https://encrypted-tbn0.gstatic.com/images?q=tb...   \n",
       "1  https://encrypted-tbn0.gstatic.com/images?q=tb...   \n",
       "2  https://encrypted-tbn0.gstatic.com/images?q=tb...   \n",
       "3  https://encrypted-tbn0.gstatic.com/images?q=tb...   \n",
       "4  https://encrypted-tbn0.gstatic.com/images?q=tb...   \n",
       "5  https://encrypted-tbn0.gstatic.com/images?q=tb...   \n",
       "6  https://encrypted-tbn0.gstatic.com/images?q=tb...   \n",
       "7  https://encrypted-tbn0.gstatic.com/images?q=tb...   \n",
       "8  https://encrypted-tbn0.gstatic.com/images?q=tb...   \n",
       "9  https://encrypted-tbn0.gstatic.com/images?q=tb...   \n",
       "\n",
       "                                                Cars  \\\n",
       "0  https://encrypted-tbn0.gstatic.com/images?q=tb...   \n",
       "1  https://encrypted-tbn0.gstatic.com/images?q=tb...   \n",
       "2  https://encrypted-tbn0.gstatic.com/images?q=tb...   \n",
       "3  https://encrypted-tbn0.gstatic.com/images?q=tb...   \n",
       "4  https://encrypted-tbn0.gstatic.com/images?q=tb...   \n",
       "5  https://encrypted-tbn0.gstatic.com/images?q=tb...   \n",
       "6  https://encrypted-tbn0.gstatic.com/images?q=tb...   \n",
       "7  https://encrypted-tbn0.gstatic.com/images?q=tb...   \n",
       "8  https://encrypted-tbn0.gstatic.com/images?q=tb...   \n",
       "9  https://encrypted-tbn0.gstatic.com/images?q=tb...   \n",
       "\n",
       "                                    Machine_Learning  \\\n",
       "0  https://encrypted-tbn0.gstatic.com/images?q=tb...   \n",
       "1  https://encrypted-tbn0.gstatic.com/images?q=tb...   \n",
       "2  https://encrypted-tbn0.gstatic.com/images?q=tb...   \n",
       "3  https://encrypted-tbn0.gstatic.com/images?q=tb...   \n",
       "4  https://encrypted-tbn0.gstatic.com/images?q=tb...   \n",
       "5  https://encrypted-tbn0.gstatic.com/images?q=tb...   \n",
       "6  https://encrypted-tbn0.gstatic.com/images?q=tb...   \n",
       "7  https://encrypted-tbn0.gstatic.com/images?q=tb...   \n",
       "8  https://encrypted-tbn0.gstatic.com/images?q=tb...   \n",
       "9  https://encrypted-tbn0.gstatic.com/images?q=tb...   \n",
       "\n",
       "                                              Guitar  \\\n",
       "0  https://encrypted-tbn0.gstatic.com/images?q=tb...   \n",
       "1  https://encrypted-tbn0.gstatic.com/images?q=tb...   \n",
       "2  https://encrypted-tbn0.gstatic.com/images?q=tb...   \n",
       "3  https://encrypted-tbn0.gstatic.com/images?q=tb...   \n",
       "4  https://encrypted-tbn0.gstatic.com/images?q=tb...   \n",
       "5  https://encrypted-tbn0.gstatic.com/images?q=tb...   \n",
       "6  https://encrypted-tbn0.gstatic.com/images?q=tb...   \n",
       "7  https://encrypted-tbn0.gstatic.com/images?q=tb...   \n",
       "8  https://encrypted-tbn0.gstatic.com/images?q=tb...   \n",
       "9  https://encrypted-tbn0.gstatic.com/images?q=tb...   \n",
       "\n",
       "                                               Cakes  \n",
       "0  https://encrypted-tbn0.gstatic.com/images?q=tb...  \n",
       "1  https://encrypted-tbn0.gstatic.com/images?q=tb...  \n",
       "2  https://encrypted-tbn0.gstatic.com/images?q=tb...  \n",
       "3  https://encrypted-tbn0.gstatic.com/images?q=tb...  \n",
       "4  https://encrypted-tbn0.gstatic.com/images?q=tb...  \n",
       "5  https://encrypted-tbn0.gstatic.com/images?q=tb...  \n",
       "6  https://encrypted-tbn0.gstatic.com/images?q=tb...  \n",
       "7  https://encrypted-tbn0.gstatic.com/images?q=tb...  \n",
       "8  https://encrypted-tbn0.gstatic.com/images?q=tb...  \n",
       "9  https://encrypted-tbn0.gstatic.com/images?q=tb...  "
      ]
     },
     "execution_count": 66,
     "metadata": {},
     "output_type": "execute_result"
    }
   ],
   "source": [
    "#Create DataFrame\n",
    "data=pd.DataFrame({})\n",
    "data['Fruits']= fruit_url[:10]\n",
    "data['Cars']= car_url[:10]\n",
    "data['Machine_Learning']= Machine_url[:10]\n",
    "data['Guitar']= Guitar_url[:10]\n",
    "data['Cakes']= cakes_url[:10]\n",
    "data"
   ]
  },
  {
   "cell_type": "markdown",
   "id": "e865aff1",
   "metadata": {},
   "source": [
    "**Question 4**- Write a python program to search for a smartphone(e.g.: Oneplus Nord, pixel 4A, etc.) on www.flipkart.com\n",
    "and scrape following details for all the search results displayed on 1st page. Details to be scraped: “Brand\n",
    "Name”, “Smartphone name”, “Colour”, “RAM”, “Storage(ROM)”, “Primary Camera”,\n",
    "“Secondary Camera”, “Display Size”, “Battery Capacity”, “Price”, “Product URL”. Incase if any of the\n",
    "details is missing then replace it by “- “. Save your results in a dataframe and CSV. "
   ]
  },
  {
   "cell_type": "code",
   "execution_count": 67,
   "id": "53ba7a41",
   "metadata": {},
   "outputs": [],
   "source": [
    "# import necessary library\n",
    "import selenium\n",
    "import pandas as pd\n",
    "from selenium import webdriver\n",
    "import warnings\n",
    "warnings.filterwarnings('ignore')\n",
    "from selenium.webdriver.common.by import By\n",
    "import time"
   ]
  },
  {
   "cell_type": "code",
   "execution_count": 68,
   "id": "d4e8694e",
   "metadata": {},
   "outputs": [],
   "source": [
    "#open the flipkart page on automated chrome browser\n",
    "driver = webdriver.Chrome()"
   ]
  },
  {
   "cell_type": "code",
   "execution_count": 69,
   "id": "23ec5c64",
   "metadata": {},
   "outputs": [],
   "source": [
    "#open the flipkart page on automated chrome browser\n",
    "driver.get(\"https://www.flipkart.com/\")"
   ]
  },
  {
   "cell_type": "code",
   "execution_count": 70,
   "id": "f2a90154",
   "metadata": {},
   "outputs": [],
   "source": [
    "# search the search bar and enter the product\n",
    "search_bar = driver.find_element(By.CLASS_NAME,\"Pke_EE\")"
   ]
  },
  {
   "cell_type": "code",
   "execution_count": 71,
   "id": "9bf773ef",
   "metadata": {},
   "outputs": [],
   "source": [
    "search_bar.send_keys(\" samsung smartphones\")"
   ]
  },
  {
   "cell_type": "code",
   "execution_count": 72,
   "id": "2e043278",
   "metadata": {},
   "outputs": [],
   "source": [
    "# search button\n",
    "button = driver.find_element(By.XPATH,'/html/body/div[1]/div/div[1]/div/div/div/div/div[1]/div/div[1]/div/div[1]/div[1]/header/div[1]/div[2]/form/div/button')\n",
    "button.click()"
   ]
  },
  {
   "cell_type": "code",
   "execution_count": 73,
   "id": "3e89472b",
   "metadata": {},
   "outputs": [],
   "source": [
    "# empty enumerate for store details\n",
    "brand_name = []\n",
    "ram_rom = []\n",
    "display = []\n",
    "camera=[]\n",
    "battery = []\n",
    "processor =[]\n",
    "warranty=[]\n",
    "price=[]"
   ]
  },
  {
   "cell_type": "code",
   "execution_count": 74,
   "id": "3088acce",
   "metadata": {},
   "outputs": [],
   "source": [
    "# scrap brand name\n",
    "brand = driver.find_elements(By.XPATH,'//div[@class=\"_4rR01T\"]')\n",
    "for i in brand:\n",
    "    if i.text is None :\n",
    "        brand_name.append(\"--\")\n",
    "    else:\n",
    "        brand_name.append(i.text)\n",
    "        \n",
    "        \n",
    "\n",
    "    "
   ]
  },
  {
   "cell_type": "code",
   "execution_count": 75,
   "id": "3de3ac46",
   "metadata": {},
   "outputs": [],
   "source": [
    "# scrap ram rom\n",
    "rom = driver.find_elements(By.XPATH,'//ul[@class=\"_1xgFaf\"]//li[1]')\n",
    "for a in rom:\n",
    "    if a.text is None :\n",
    "        ram_rom.append(\"--\")\n",
    "    else:\n",
    "        ram_rom.append(a.text)\n"
   ]
  },
  {
   "cell_type": "code",
   "execution_count": 76,
   "id": "5f9115ae",
   "metadata": {},
   "outputs": [],
   "source": [
    "# scrap display\n",
    "screen = driver.find_elements(By.XPATH,'//ul[@class=\"_1xgFaf\"]//li[2]')\n",
    "for b in screen:\n",
    "    if b.text is None :\n",
    "        display.append(\"--\")\n",
    "    else:\n",
    "        display.append(b.text)\n"
   ]
  },
  {
   "cell_type": "code",
   "execution_count": 77,
   "id": "2b973427",
   "metadata": {},
   "outputs": [],
   "source": [
    "# scrap camera\n",
    "cam = driver.find_elements(By.XPATH,'//ul[@class=\"_1xgFaf\"]//li[3]')\n",
    "for c in cam:\n",
    "    if b.text is None :\n",
    "        camera.append(\"--\")\n",
    "    else:\n",
    "        camera.append(c.text)\n",
    "\n"
   ]
  },
  {
   "cell_type": "code",
   "execution_count": 78,
   "id": "d33654ac",
   "metadata": {},
   "outputs": [],
   "source": [
    "# scrap battery\n",
    "batt = driver.find_elements(By.XPATH,'//ul[@class=\"_1xgFaf\"]//li[4]')\n",
    "for d in batt:\n",
    "    if d.text is None :\n",
    "        battery.append(\"--\")\n",
    "    else:\n",
    "        battery.append(d.text)\n"
   ]
  },
  {
   "cell_type": "code",
   "execution_count": 79,
   "id": "e5ef6dd0",
   "metadata": {},
   "outputs": [],
   "source": [
    "#scrap processor\n",
    "process = driver.find_elements(By.XPATH,'//ul[@class=\"_1xgFaf\"]//li[5]')\n",
    "for e in process:\n",
    "    if e.text is None :\n",
    "        processor.append(\"--\")\n",
    "    else:\n",
    "        processor.append(e.text)\n"
   ]
  },
  {
   "cell_type": "code",
   "execution_count": 80,
   "id": "ca9b7892",
   "metadata": {},
   "outputs": [],
   "source": [
    "# scrap warranty\n",
    "warr = driver.find_elements(By.XPATH,'//ul[@class=\"_1xgFaf\"]//li[6]')\n",
    "for f in process:\n",
    "    if f.text is None :\n",
    "        warranty.append(\"--\")\n",
    "    else:\n",
    "        warranty.append(f.text)\n",
    "\n"
   ]
  },
  {
   "cell_type": "code",
   "execution_count": 81,
   "id": "d9dc842b",
   "metadata": {},
   "outputs": [],
   "source": [
    "# scrap price\n",
    "prices = driver.find_elements(By.XPATH,'//div[@class=\"_30jeq3 _1_WHN1\"]')\n",
    "for g in prices:\n",
    "    if g.text is None :\n",
    "        price.append(\"--\")\n",
    "    else:\n",
    "        price.append(g.text)"
   ]
  },
  {
   "cell_type": "code",
   "execution_count": 82,
   "id": "1a9c182f",
   "metadata": {},
   "outputs": [
    {
     "data": {
      "text/html": [
       "<div>\n",
       "<style scoped>\n",
       "    .dataframe tbody tr th:only-of-type {\n",
       "        vertical-align: middle;\n",
       "    }\n",
       "\n",
       "    .dataframe tbody tr th {\n",
       "        vertical-align: top;\n",
       "    }\n",
       "\n",
       "    .dataframe thead th {\n",
       "        text-align: right;\n",
       "    }\n",
       "</style>\n",
       "<table border=\"1\" class=\"dataframe\">\n",
       "  <thead>\n",
       "    <tr style=\"text-align: right;\">\n",
       "      <th></th>\n",
       "      <th>Brand_Name</th>\n",
       "      <th>Storage</th>\n",
       "      <th>Display</th>\n",
       "      <th>Camera</th>\n",
       "      <th>Battery</th>\n",
       "      <th>Processor</th>\n",
       "      <th>Warranty</th>\n",
       "      <th>Price</th>\n",
       "    </tr>\n",
       "  </thead>\n",
       "  <tbody>\n",
       "    <tr>\n",
       "      <th>0</th>\n",
       "      <td>SAMSUNG Galaxy F14 5G (GOAT Green, 128 GB)</td>\n",
       "      <td>6 GB RAM | 128 GB ROM | Expandable Upto 1 TB</td>\n",
       "      <td>16.76 cm (6.6 inch) Full HD+ Display</td>\n",
       "      <td>50MP + 2MP | 13MP Front Camera</td>\n",
       "      <td>6000 mAh Battery</td>\n",
       "      <td>Exynos 1330, Octa Core Processor</td>\n",
       "      <td>Exynos 1330, Octa Core Processor</td>\n",
       "      <td>₹12,490</td>\n",
       "    </tr>\n",
       "    <tr>\n",
       "      <th>1</th>\n",
       "      <td>SAMSUNG Galaxy F14 5G (OMG Black, 128 GB)</td>\n",
       "      <td>6 GB RAM | 128 GB ROM | Expandable Upto 1 TB</td>\n",
       "      <td>16.76 cm (6.6 inch) Full HD+ Display</td>\n",
       "      <td>50MP + 2MP | 13MP Front Camera</td>\n",
       "      <td>6000 mAh Battery</td>\n",
       "      <td>Exynos 1330, Octa Core Processor</td>\n",
       "      <td>Exynos 1330, Octa Core Processor</td>\n",
       "      <td>₹12,490</td>\n",
       "    </tr>\n",
       "    <tr>\n",
       "      <th>2</th>\n",
       "      <td>SAMSUNG Galaxy F14 5G (B.A.E. Purple, 128 GB)</td>\n",
       "      <td>6 GB RAM | 128 GB ROM | Expandable Upto 1 TB</td>\n",
       "      <td>16.76 cm (6.6 inch) Full HD+ Display</td>\n",
       "      <td>50MP + 2MP | 13MP Front Camera</td>\n",
       "      <td>6000 mAh Battery</td>\n",
       "      <td>Exynos 1330, Octa Core Processor</td>\n",
       "      <td>Exynos 1330, Octa Core Processor</td>\n",
       "      <td>₹12,490</td>\n",
       "    </tr>\n",
       "    <tr>\n",
       "      <th>3</th>\n",
       "      <td>SAMSUNG Galaxy F34 5G (Orchid Violet, 128 GB)</td>\n",
       "      <td>6 GB RAM | 128 GB ROM | Expandable Upto 1 TB</td>\n",
       "      <td>16.51 cm (6.5 inch) Full HD+ Display</td>\n",
       "      <td>50MP (OIS) + 8MP + 2MP | 13MP Front Camera</td>\n",
       "      <td>6000 mAh Battery</td>\n",
       "      <td>Exynos 1280 Processor</td>\n",
       "      <td>Exynos 1280 Processor</td>\n",
       "      <td>₹16,499</td>\n",
       "    </tr>\n",
       "    <tr>\n",
       "      <th>4</th>\n",
       "      <td>SAMSUNG Galaxy F34 5G (Mystic Green, 128 GB)</td>\n",
       "      <td>6 GB RAM | 128 GB ROM | Expandable Upto 1 TB</td>\n",
       "      <td>16.51 cm (6.5 inch) Full HD+ Display</td>\n",
       "      <td>50MP (OIS) + 8MP + 2MP | 13MP Front Camera</td>\n",
       "      <td>6000 mAh Battery</td>\n",
       "      <td>Exynos 1280 Processor</td>\n",
       "      <td>Exynos 1280 Processor</td>\n",
       "      <td>₹16,499</td>\n",
       "    </tr>\n",
       "    <tr>\n",
       "      <th>5</th>\n",
       "      <td>SAMSUNG Galaxy F34 5G (Electric Black, 128 GB)</td>\n",
       "      <td>6 GB RAM | 128 GB ROM | Expandable Upto 1 TB</td>\n",
       "      <td>16.51 cm (6.5 inch) Full HD+ Display</td>\n",
       "      <td>50MP (OIS) + 8MP + 2MP | 13MP Front Camera</td>\n",
       "      <td>6000 mAh Battery</td>\n",
       "      <td>Exynos 1280 Processor</td>\n",
       "      <td>Exynos 1280 Processor</td>\n",
       "      <td>₹16,499</td>\n",
       "    </tr>\n",
       "    <tr>\n",
       "      <th>6</th>\n",
       "      <td>SAMSUNG Galaxy F14 5G (B.A.E. Purple, 128 GB)</td>\n",
       "      <td>4 GB RAM | 128 GB ROM | Expandable Upto 1 TB</td>\n",
       "      <td>16.76 cm (6.6 inch) Full HD+ Display</td>\n",
       "      <td>50MP + 2MP | 13MP Front Camera</td>\n",
       "      <td>6000 mAh Battery</td>\n",
       "      <td>Exynos 1330, Octa Core Processor</td>\n",
       "      <td>Exynos 1330, Octa Core Processor</td>\n",
       "      <td>₹11,490</td>\n",
       "    </tr>\n",
       "    <tr>\n",
       "      <th>7</th>\n",
       "      <td>SAMSUNG Galaxy F14 5G (GOAT Green, 128 GB)</td>\n",
       "      <td>4 GB RAM | 128 GB ROM | Expandable Upto 1 TB</td>\n",
       "      <td>16.76 cm (6.6 inch) Full HD+ Display</td>\n",
       "      <td>50MP + 2MP | 13MP Front Camera</td>\n",
       "      <td>6000 mAh Battery</td>\n",
       "      <td>Exynos 1330, Octa Core Processor</td>\n",
       "      <td>Exynos 1330, Octa Core Processor</td>\n",
       "      <td>₹11,490</td>\n",
       "    </tr>\n",
       "    <tr>\n",
       "      <th>8</th>\n",
       "      <td>SAMSUNG Galaxy F13 (Sunrise Copper, 64 GB)</td>\n",
       "      <td>4 GB RAM | 64 GB ROM | Expandable Upto 1 TB</td>\n",
       "      <td>16.76 cm (6.6 inch) Full HD+ Display</td>\n",
       "      <td>50MP + 5MP + 2MP | 8MP Front Camera</td>\n",
       "      <td>6000 mAh Lithium Ion Battery</td>\n",
       "      <td>Exynos 850 Processor</td>\n",
       "      <td>Exynos 850 Processor</td>\n",
       "      <td>₹8,199</td>\n",
       "    </tr>\n",
       "    <tr>\n",
       "      <th>9</th>\n",
       "      <td>SAMSUNG Galaxy F14 5G (OMG Black, 128 GB)</td>\n",
       "      <td>4 GB RAM | 128 GB ROM | Expandable Upto 1 TB</td>\n",
       "      <td>16.76 cm (6.6 inch) Full HD+ Display</td>\n",
       "      <td>50MP + 2MP | 13MP Front Camera</td>\n",
       "      <td>6000 mAh Battery</td>\n",
       "      <td>Exynos 1330, Octa Core Processor</td>\n",
       "      <td>Exynos 1330, Octa Core Processor</td>\n",
       "      <td>₹11,490</td>\n",
       "    </tr>\n",
       "    <tr>\n",
       "      <th>10</th>\n",
       "      <td>SAMSUNG Galaxy S22 5G (Phantom Black, 128 GB)</td>\n",
       "      <td>8 GB RAM | 128 GB ROM</td>\n",
       "      <td>15.49 cm (6.1 inch) Full HD+ Display</td>\n",
       "      <td>50MP + 12MP + 10MP | 10MP Front Camera</td>\n",
       "      <td>3700 mAh Lithium-ion Battery</td>\n",
       "      <td>Snapdragon 8 Gen 1 Processor</td>\n",
       "      <td>Snapdragon 8 Gen 1 Processor</td>\n",
       "      <td>₹36,999</td>\n",
       "    </tr>\n",
       "    <tr>\n",
       "      <th>11</th>\n",
       "      <td>SAMSUNG Galaxy F54 5G (Meteor Blue, 256 GB)</td>\n",
       "      <td>8 GB RAM | 256 GB ROM | Expandable Upto 1 TB</td>\n",
       "      <td>17.02 cm (6.7 inch) Full HD+ Display</td>\n",
       "      <td>108MP + 8MP + 2MP | 32MP Front Camera</td>\n",
       "      <td>6000 mAh Battery</td>\n",
       "      <td>Octa Core Processor</td>\n",
       "      <td>Octa Core Processor</td>\n",
       "      <td>₹24,999</td>\n",
       "    </tr>\n",
       "    <tr>\n",
       "      <th>12</th>\n",
       "      <td>SAMSUNG Galaxy F13 (Waterfall Blue, 64 GB)</td>\n",
       "      <td>4 GB RAM | 64 GB ROM | Expandable Upto 1 TB</td>\n",
       "      <td>16.76 cm (6.6 inch) Full HD+ Display</td>\n",
       "      <td>50MP + 5MP + 2MP | 8MP Front Camera</td>\n",
       "      <td>6000 mAh Lithium Ion Battery</td>\n",
       "      <td>Exynos 850 Processor</td>\n",
       "      <td>Exynos 850 Processor</td>\n",
       "      <td>₹8,199</td>\n",
       "    </tr>\n",
       "    <tr>\n",
       "      <th>13</th>\n",
       "      <td>SAMSUNG Galaxy F04 (Opal Green, 64 GB)</td>\n",
       "      <td>4 GB RAM | 64 GB ROM | Expandable Upto 1 TB</td>\n",
       "      <td>16.51 cm (6.5 inch) HD Display</td>\n",
       "      <td>13MP + 2MP | 5MP Front Camera</td>\n",
       "      <td>5000 mAh Lithium-Ion Battery</td>\n",
       "      <td>Mediatek Helio P35 Processor</td>\n",
       "      <td>Mediatek Helio P35 Processor</td>\n",
       "      <td>₹6,799</td>\n",
       "    </tr>\n",
       "    <tr>\n",
       "      <th>14</th>\n",
       "      <td>SAMSUNG Galaxy S22 5G (Phantom White, 128 GB)</td>\n",
       "      <td>8 GB RAM | 128 GB ROM</td>\n",
       "      <td>15.49 cm (6.1 inch) Full HD+ Display</td>\n",
       "      <td>50MP + 12MP + 10MP | 10MP Front Camera</td>\n",
       "      <td>3700 mAh Lithium-ion Battery</td>\n",
       "      <td>Snapdragon 8 Gen 1 Processor</td>\n",
       "      <td>Snapdragon 8 Gen 1 Processor</td>\n",
       "      <td>₹36,999</td>\n",
       "    </tr>\n",
       "    <tr>\n",
       "      <th>15</th>\n",
       "      <td>SAMSUNG Galaxy S21 FE 5G (Graphite, 128 GB)</td>\n",
       "      <td>8 GB RAM | 128 GB ROM</td>\n",
       "      <td>16.26 cm (6.4 inch) Full HD+ Display</td>\n",
       "      <td>12MP + 12MP + 8MP (OIS) | 32MP Front Camera</td>\n",
       "      <td>4500 mAh Lithium-ion Battery</td>\n",
       "      <td>1 Year Manufacturer Warranty for Device and 6 ...</td>\n",
       "      <td>1 Year Manufacturer Warranty for Device and 6 ...</td>\n",
       "      <td>₹31,499</td>\n",
       "    </tr>\n",
       "    <tr>\n",
       "      <th>16</th>\n",
       "      <td>SAMSUNG Galaxy M14 5G (Smoky Teal, 128 GB)</td>\n",
       "      <td>6 GB RAM | 128 GB ROM</td>\n",
       "      <td>16.76 cm (6.6 inch) Display</td>\n",
       "      <td>50MP Rear Camera</td>\n",
       "      <td>6000 mAh Battery</td>\n",
       "      <td>1 year manufacturer for handset and 6 month fo...</td>\n",
       "      <td>1 year manufacturer for handset and 6 month fo...</td>\n",
       "      <td>₹13,375</td>\n",
       "    </tr>\n",
       "    <tr>\n",
       "      <th>17</th>\n",
       "      <td>SAMSUNG Galaxy S22 5G (Green, 128 GB)</td>\n",
       "      <td>8 GB RAM | 128 GB ROM</td>\n",
       "      <td>15.49 cm (6.1 inch) Full HD+ Display</td>\n",
       "      <td>50MP + 12MP + 10MP | 10MP Front Camera</td>\n",
       "      <td>3700 mAh Lithium-ion Battery</td>\n",
       "      <td>Snapdragon 8 Gen 1 Processor</td>\n",
       "      <td>Snapdragon 8 Gen 1 Processor</td>\n",
       "      <td>₹36,999</td>\n",
       "    </tr>\n",
       "    <tr>\n",
       "      <th>18</th>\n",
       "      <td>SAMSUNG Galaxy F13 (Nightsky Green, 64 GB)</td>\n",
       "      <td>4 GB RAM | 64 GB ROM | Expandable Upto 1 TB</td>\n",
       "      <td>16.76 cm (6.6 inch) Full HD+ Display</td>\n",
       "      <td>50MP + 5MP + 2MP | 8MP Front Camera</td>\n",
       "      <td>6000 mAh Lithium Ion Battery</td>\n",
       "      <td>Exynos 850 Processor</td>\n",
       "      <td>Exynos 850 Processor</td>\n",
       "      <td>₹8,199</td>\n",
       "    </tr>\n",
       "    <tr>\n",
       "      <th>19</th>\n",
       "      <td>SAMSUNG Galaxy F54 5G (Stardust Silver, 256 GB)</td>\n",
       "      <td>8 GB RAM | 256 GB ROM | Expandable Upto 1 TB</td>\n",
       "      <td>17.02 cm (6.7 inch) Full HD+ Display</td>\n",
       "      <td>108MP + 8MP + 2MP | 32MP Front Camera</td>\n",
       "      <td>6000 mAh Battery</td>\n",
       "      <td>Octa Core Processor</td>\n",
       "      <td>Octa Core Processor</td>\n",
       "      <td>₹24,999</td>\n",
       "    </tr>\n",
       "    <tr>\n",
       "      <th>20</th>\n",
       "      <td>SAMSUNG Galaxy M34 5G without charger (Midnigh...</td>\n",
       "      <td>6 GB RAM | 128 GB ROM</td>\n",
       "      <td>16.51 cm (6.5 inch) Display</td>\n",
       "      <td>50MP Rear Camera</td>\n",
       "      <td>6000 mAh Battery</td>\n",
       "      <td>Domestic 1 Year of Device &amp; 6 Months for In-Bo...</td>\n",
       "      <td>Domestic 1 Year of Device &amp; 6 Months for In-Bo...</td>\n",
       "      <td>₹16,972</td>\n",
       "    </tr>\n",
       "    <tr>\n",
       "      <th>21</th>\n",
       "      <td>SAMSUNG Galaxy F04 (Jade Purple, 64 GB)</td>\n",
       "      <td>4 GB RAM | 64 GB ROM | Expandable Upto 1 TB</td>\n",
       "      <td>16.51 cm (6.5 inch) HD Display</td>\n",
       "      <td>13MP + 2MP | 5MP Front Camera</td>\n",
       "      <td>5000 mAh Lithium-Ion Battery</td>\n",
       "      <td>Mediatek Helio P35 Processor</td>\n",
       "      <td>Mediatek Helio P35 Processor</td>\n",
       "      <td>₹6,799</td>\n",
       "    </tr>\n",
       "    <tr>\n",
       "      <th>22</th>\n",
       "      <td>SAMSUNG Galaxy F34 5G (Mystic Green, 128 GB)</td>\n",
       "      <td>8 GB RAM | 128 GB ROM | Expandable Upto 1 TB</td>\n",
       "      <td>16.51 cm (6.5 inch) Full HD+ Display</td>\n",
       "      <td>50MP (OIS) + 8MP + 2MP | 13MP Front Camera</td>\n",
       "      <td>6000 mAh Battery</td>\n",
       "      <td>Exynos 1280 Processor</td>\n",
       "      <td>Exynos 1280 Processor</td>\n",
       "      <td>₹18,499</td>\n",
       "    </tr>\n",
       "    <tr>\n",
       "      <th>23</th>\n",
       "      <td>SAMSUNG Galaxy S23 Ultra 5G (Cream, 256 GB)</td>\n",
       "      <td>12 GB RAM | 256 GB ROM</td>\n",
       "      <td>17.27 cm (6.8 inch) Quad HD+ Display</td>\n",
       "      <td>200MP + 10MP + 12MP + 10MP | 12MP Front Camera</td>\n",
       "      <td>5000 mAh Lithium Ion Battery</td>\n",
       "      <td>Qualcomm Snapdragon 8 Gen 2 Processor</td>\n",
       "      <td>Qualcomm Snapdragon 8 Gen 2 Processor</td>\n",
       "      <td>₹1,24,999</td>\n",
       "    </tr>\n",
       "  </tbody>\n",
       "</table>\n",
       "</div>"
      ],
      "text/plain": [
       "                                           Brand_Name  \\\n",
       "0          SAMSUNG Galaxy F14 5G (GOAT Green, 128 GB)   \n",
       "1           SAMSUNG Galaxy F14 5G (OMG Black, 128 GB)   \n",
       "2       SAMSUNG Galaxy F14 5G (B.A.E. Purple, 128 GB)   \n",
       "3       SAMSUNG Galaxy F34 5G (Orchid Violet, 128 GB)   \n",
       "4        SAMSUNG Galaxy F34 5G (Mystic Green, 128 GB)   \n",
       "5      SAMSUNG Galaxy F34 5G (Electric Black, 128 GB)   \n",
       "6       SAMSUNG Galaxy F14 5G (B.A.E. Purple, 128 GB)   \n",
       "7          SAMSUNG Galaxy F14 5G (GOAT Green, 128 GB)   \n",
       "8          SAMSUNG Galaxy F13 (Sunrise Copper, 64 GB)   \n",
       "9           SAMSUNG Galaxy F14 5G (OMG Black, 128 GB)   \n",
       "10      SAMSUNG Galaxy S22 5G (Phantom Black, 128 GB)   \n",
       "11        SAMSUNG Galaxy F54 5G (Meteor Blue, 256 GB)   \n",
       "12         SAMSUNG Galaxy F13 (Waterfall Blue, 64 GB)   \n",
       "13             SAMSUNG Galaxy F04 (Opal Green, 64 GB)   \n",
       "14      SAMSUNG Galaxy S22 5G (Phantom White, 128 GB)   \n",
       "15        SAMSUNG Galaxy S21 FE 5G (Graphite, 128 GB)   \n",
       "16         SAMSUNG Galaxy M14 5G (Smoky Teal, 128 GB)   \n",
       "17              SAMSUNG Galaxy S22 5G (Green, 128 GB)   \n",
       "18         SAMSUNG Galaxy F13 (Nightsky Green, 64 GB)   \n",
       "19    SAMSUNG Galaxy F54 5G (Stardust Silver, 256 GB)   \n",
       "20  SAMSUNG Galaxy M34 5G without charger (Midnigh...   \n",
       "21            SAMSUNG Galaxy F04 (Jade Purple, 64 GB)   \n",
       "22       SAMSUNG Galaxy F34 5G (Mystic Green, 128 GB)   \n",
       "23        SAMSUNG Galaxy S23 Ultra 5G (Cream, 256 GB)   \n",
       "\n",
       "                                         Storage  \\\n",
       "0   6 GB RAM | 128 GB ROM | Expandable Upto 1 TB   \n",
       "1   6 GB RAM | 128 GB ROM | Expandable Upto 1 TB   \n",
       "2   6 GB RAM | 128 GB ROM | Expandable Upto 1 TB   \n",
       "3   6 GB RAM | 128 GB ROM | Expandable Upto 1 TB   \n",
       "4   6 GB RAM | 128 GB ROM | Expandable Upto 1 TB   \n",
       "5   6 GB RAM | 128 GB ROM | Expandable Upto 1 TB   \n",
       "6   4 GB RAM | 128 GB ROM | Expandable Upto 1 TB   \n",
       "7   4 GB RAM | 128 GB ROM | Expandable Upto 1 TB   \n",
       "8    4 GB RAM | 64 GB ROM | Expandable Upto 1 TB   \n",
       "9   4 GB RAM | 128 GB ROM | Expandable Upto 1 TB   \n",
       "10                         8 GB RAM | 128 GB ROM   \n",
       "11  8 GB RAM | 256 GB ROM | Expandable Upto 1 TB   \n",
       "12   4 GB RAM | 64 GB ROM | Expandable Upto 1 TB   \n",
       "13   4 GB RAM | 64 GB ROM | Expandable Upto 1 TB   \n",
       "14                         8 GB RAM | 128 GB ROM   \n",
       "15                         8 GB RAM | 128 GB ROM   \n",
       "16                         6 GB RAM | 128 GB ROM   \n",
       "17                         8 GB RAM | 128 GB ROM   \n",
       "18   4 GB RAM | 64 GB ROM | Expandable Upto 1 TB   \n",
       "19  8 GB RAM | 256 GB ROM | Expandable Upto 1 TB   \n",
       "20                         6 GB RAM | 128 GB ROM   \n",
       "21   4 GB RAM | 64 GB ROM | Expandable Upto 1 TB   \n",
       "22  8 GB RAM | 128 GB ROM | Expandable Upto 1 TB   \n",
       "23                        12 GB RAM | 256 GB ROM   \n",
       "\n",
       "                                 Display  \\\n",
       "0   16.76 cm (6.6 inch) Full HD+ Display   \n",
       "1   16.76 cm (6.6 inch) Full HD+ Display   \n",
       "2   16.76 cm (6.6 inch) Full HD+ Display   \n",
       "3   16.51 cm (6.5 inch) Full HD+ Display   \n",
       "4   16.51 cm (6.5 inch) Full HD+ Display   \n",
       "5   16.51 cm (6.5 inch) Full HD+ Display   \n",
       "6   16.76 cm (6.6 inch) Full HD+ Display   \n",
       "7   16.76 cm (6.6 inch) Full HD+ Display   \n",
       "8   16.76 cm (6.6 inch) Full HD+ Display   \n",
       "9   16.76 cm (6.6 inch) Full HD+ Display   \n",
       "10  15.49 cm (6.1 inch) Full HD+ Display   \n",
       "11  17.02 cm (6.7 inch) Full HD+ Display   \n",
       "12  16.76 cm (6.6 inch) Full HD+ Display   \n",
       "13        16.51 cm (6.5 inch) HD Display   \n",
       "14  15.49 cm (6.1 inch) Full HD+ Display   \n",
       "15  16.26 cm (6.4 inch) Full HD+ Display   \n",
       "16           16.76 cm (6.6 inch) Display   \n",
       "17  15.49 cm (6.1 inch) Full HD+ Display   \n",
       "18  16.76 cm (6.6 inch) Full HD+ Display   \n",
       "19  17.02 cm (6.7 inch) Full HD+ Display   \n",
       "20           16.51 cm (6.5 inch) Display   \n",
       "21        16.51 cm (6.5 inch) HD Display   \n",
       "22  16.51 cm (6.5 inch) Full HD+ Display   \n",
       "23  17.27 cm (6.8 inch) Quad HD+ Display   \n",
       "\n",
       "                                            Camera  \\\n",
       "0                   50MP + 2MP | 13MP Front Camera   \n",
       "1                   50MP + 2MP | 13MP Front Camera   \n",
       "2                   50MP + 2MP | 13MP Front Camera   \n",
       "3       50MP (OIS) + 8MP + 2MP | 13MP Front Camera   \n",
       "4       50MP (OIS) + 8MP + 2MP | 13MP Front Camera   \n",
       "5       50MP (OIS) + 8MP + 2MP | 13MP Front Camera   \n",
       "6                   50MP + 2MP | 13MP Front Camera   \n",
       "7                   50MP + 2MP | 13MP Front Camera   \n",
       "8              50MP + 5MP + 2MP | 8MP Front Camera   \n",
       "9                   50MP + 2MP | 13MP Front Camera   \n",
       "10          50MP + 12MP + 10MP | 10MP Front Camera   \n",
       "11           108MP + 8MP + 2MP | 32MP Front Camera   \n",
       "12             50MP + 5MP + 2MP | 8MP Front Camera   \n",
       "13                   13MP + 2MP | 5MP Front Camera   \n",
       "14          50MP + 12MP + 10MP | 10MP Front Camera   \n",
       "15     12MP + 12MP + 8MP (OIS) | 32MP Front Camera   \n",
       "16                                50MP Rear Camera   \n",
       "17          50MP + 12MP + 10MP | 10MP Front Camera   \n",
       "18             50MP + 5MP + 2MP | 8MP Front Camera   \n",
       "19           108MP + 8MP + 2MP | 32MP Front Camera   \n",
       "20                                50MP Rear Camera   \n",
       "21                   13MP + 2MP | 5MP Front Camera   \n",
       "22      50MP (OIS) + 8MP + 2MP | 13MP Front Camera   \n",
       "23  200MP + 10MP + 12MP + 10MP | 12MP Front Camera   \n",
       "\n",
       "                         Battery  \\\n",
       "0               6000 mAh Battery   \n",
       "1               6000 mAh Battery   \n",
       "2               6000 mAh Battery   \n",
       "3               6000 mAh Battery   \n",
       "4               6000 mAh Battery   \n",
       "5               6000 mAh Battery   \n",
       "6               6000 mAh Battery   \n",
       "7               6000 mAh Battery   \n",
       "8   6000 mAh Lithium Ion Battery   \n",
       "9               6000 mAh Battery   \n",
       "10  3700 mAh Lithium-ion Battery   \n",
       "11              6000 mAh Battery   \n",
       "12  6000 mAh Lithium Ion Battery   \n",
       "13  5000 mAh Lithium-Ion Battery   \n",
       "14  3700 mAh Lithium-ion Battery   \n",
       "15  4500 mAh Lithium-ion Battery   \n",
       "16              6000 mAh Battery   \n",
       "17  3700 mAh Lithium-ion Battery   \n",
       "18  6000 mAh Lithium Ion Battery   \n",
       "19              6000 mAh Battery   \n",
       "20              6000 mAh Battery   \n",
       "21  5000 mAh Lithium-Ion Battery   \n",
       "22              6000 mAh Battery   \n",
       "23  5000 mAh Lithium Ion Battery   \n",
       "\n",
       "                                            Processor  \\\n",
       "0                    Exynos 1330, Octa Core Processor   \n",
       "1                    Exynos 1330, Octa Core Processor   \n",
       "2                    Exynos 1330, Octa Core Processor   \n",
       "3                               Exynos 1280 Processor   \n",
       "4                               Exynos 1280 Processor   \n",
       "5                               Exynos 1280 Processor   \n",
       "6                    Exynos 1330, Octa Core Processor   \n",
       "7                    Exynos 1330, Octa Core Processor   \n",
       "8                                Exynos 850 Processor   \n",
       "9                    Exynos 1330, Octa Core Processor   \n",
       "10                       Snapdragon 8 Gen 1 Processor   \n",
       "11                                Octa Core Processor   \n",
       "12                               Exynos 850 Processor   \n",
       "13                       Mediatek Helio P35 Processor   \n",
       "14                       Snapdragon 8 Gen 1 Processor   \n",
       "15  1 Year Manufacturer Warranty for Device and 6 ...   \n",
       "16  1 year manufacturer for handset and 6 month fo...   \n",
       "17                       Snapdragon 8 Gen 1 Processor   \n",
       "18                               Exynos 850 Processor   \n",
       "19                                Octa Core Processor   \n",
       "20  Domestic 1 Year of Device & 6 Months for In-Bo...   \n",
       "21                       Mediatek Helio P35 Processor   \n",
       "22                              Exynos 1280 Processor   \n",
       "23              Qualcomm Snapdragon 8 Gen 2 Processor   \n",
       "\n",
       "                                             Warranty      Price  \n",
       "0                    Exynos 1330, Octa Core Processor    ₹12,490  \n",
       "1                    Exynos 1330, Octa Core Processor    ₹12,490  \n",
       "2                    Exynos 1330, Octa Core Processor    ₹12,490  \n",
       "3                               Exynos 1280 Processor    ₹16,499  \n",
       "4                               Exynos 1280 Processor    ₹16,499  \n",
       "5                               Exynos 1280 Processor    ₹16,499  \n",
       "6                    Exynos 1330, Octa Core Processor    ₹11,490  \n",
       "7                    Exynos 1330, Octa Core Processor    ₹11,490  \n",
       "8                                Exynos 850 Processor     ₹8,199  \n",
       "9                    Exynos 1330, Octa Core Processor    ₹11,490  \n",
       "10                       Snapdragon 8 Gen 1 Processor    ₹36,999  \n",
       "11                                Octa Core Processor    ₹24,999  \n",
       "12                               Exynos 850 Processor     ₹8,199  \n",
       "13                       Mediatek Helio P35 Processor     ₹6,799  \n",
       "14                       Snapdragon 8 Gen 1 Processor    ₹36,999  \n",
       "15  1 Year Manufacturer Warranty for Device and 6 ...    ₹31,499  \n",
       "16  1 year manufacturer for handset and 6 month fo...    ₹13,375  \n",
       "17                       Snapdragon 8 Gen 1 Processor    ₹36,999  \n",
       "18                               Exynos 850 Processor     ₹8,199  \n",
       "19                                Octa Core Processor    ₹24,999  \n",
       "20  Domestic 1 Year of Device & 6 Months for In-Bo...    ₹16,972  \n",
       "21                       Mediatek Helio P35 Processor     ₹6,799  \n",
       "22                              Exynos 1280 Processor    ₹18,499  \n",
       "23              Qualcomm Snapdragon 8 Gen 2 Processor  ₹1,24,999  "
      ]
     },
     "execution_count": 82,
     "metadata": {},
     "output_type": "execute_result"
    }
   ],
   "source": [
    "#Create DataFrame\n",
    "data=pd.DataFrame({})\n",
    "data['Brand_Name']= brand_name\n",
    "data['Storage']= ram_rom\n",
    "data['Display']= display\n",
    "data['Camera']=  camera\n",
    "data['Battery']= battery\n",
    "data['Processor']=processor\n",
    "data['Warranty']=warranty\n",
    "data['Price']=price\n",
    "data"
   ]
  },
  {
   "cell_type": "code",
   "execution_count": 83,
   "id": "d0eec8ce",
   "metadata": {},
   "outputs": [],
   "source": [
    "data.to_csv(\"smartphones\")"
   ]
  },
  {
   "cell_type": "code",
   "execution_count": 84,
   "id": "d19a9e1c",
   "metadata": {},
   "outputs": [],
   "source": [
    "driver.close()"
   ]
  },
  {
   "cell_type": "markdown",
   "id": "e697f9c7",
   "metadata": {},
   "source": [
    "**Question 5**- Write a program to scrap geospatial coordinates (latitude, longitude) of a city searched on google maps. \n"
   ]
  },
  {
   "cell_type": "code",
   "execution_count": 85,
   "id": "d68025cb",
   "metadata": {},
   "outputs": [],
   "source": [
    "# import necessary library\n",
    "import selenium\n",
    "import pandas as pd\n",
    "from selenium import webdriver\n",
    "import warnings\n",
    "warnings.filterwarnings('ignore')\n",
    "from selenium.webdriver.common.by import By\n",
    "import re\n",
    "import time"
   ]
  },
  {
   "cell_type": "code",
   "execution_count": 86,
   "id": "ce5537ab",
   "metadata": {},
   "outputs": [],
   "source": [
    "driver = webdriver.Chrome()"
   ]
  },
  {
   "cell_type": "code",
   "execution_count": 87,
   "id": "d17a629a",
   "metadata": {},
   "outputs": [],
   "source": [
    "#open the google maps page on automated chrome browser\n",
    "driver.get(\"https://www.google.com/maps/\")"
   ]
  },
  {
   "cell_type": "code",
   "execution_count": 88,
   "id": "2f40152d",
   "metadata": {},
   "outputs": [
    {
     "name": "stdout",
     "output_type": "stream",
     "text": [
      "Enter City Name Indore\n"
     ]
    }
   ],
   "source": [
    "# input from user\n",
    "city_name = input(\"Enter City Name\")"
   ]
  },
  {
   "cell_type": "code",
   "execution_count": 89,
   "id": "4fe69316",
   "metadata": {},
   "outputs": [],
   "source": [
    "# search the search box and enter the city name\n",
    "search = driver.find_element(By.XPATH,'//input[@class=\"searchboxinput xiQnY\"]')"
   ]
  },
  {
   "cell_type": "code",
   "execution_count": 90,
   "id": "eebb268e",
   "metadata": {},
   "outputs": [],
   "source": [
    "search.send_keys(city_name)"
   ]
  },
  {
   "cell_type": "code",
   "execution_count": 91,
   "id": "b4d25564",
   "metadata": {},
   "outputs": [],
   "source": [
    "# search button\n",
    "button = driver.find_element(By.XPATH,'/html/body/div[1]/div[3]/div[8]/div[3]/div[1]/div[1]/div/div[2]/div[1]/button')\n",
    "button.click()"
   ]
  },
  {
   "cell_type": "code",
   "execution_count": 93,
   "id": "3d3eeb05",
   "metadata": {},
   "outputs": [
    {
     "name": "stdout",
     "output_type": "stream",
     "text": [
      "URL_EXTRACTED https://www.google.com/maps/place/Indore,+Madhya+Pradesh/@22.7238883,75.6990321,11z/data=!3m1!4b1!4m6!3m5!1s0x3962fcad1b410ddb:0x96ec4da356240f4!8m2!3d22.7195687!4d75.8577258!16zL20vMDFfeXZ5?entry=ttu\n",
      "Latitude = 22.7238883, Longitude = 75.6990321\n"
     ]
    }
   ],
   "source": [
    "url = driver.current_url\n",
    "print(\"URL_EXTRACTED\", url)\n",
    "la_lng = re.findall(r'@(.*)data',url)\n",
    "if len(la_lng):\n",
    "    la_lngg = la_lng[0].split(\",\")\n",
    "    if len(la_lngg)>=2:\n",
    "            la = la_lngg[0]\n",
    "            lng = la_lngg[1]\n",
    "    print(\"Latitude = {}, Longitude = {}\".format(la, lng))"
   ]
  },
  {
   "cell_type": "markdown",
   "id": "0f29dce4",
   "metadata": {},
   "source": [
    "**Question 6**- Write a program to scrap all the available details of best gaming laptops from digit.in. "
   ]
  },
  {
   "cell_type": "code",
   "execution_count": 24,
   "id": "3abec208",
   "metadata": {},
   "outputs": [],
   "source": [
    "# import necessary library\n",
    "import selenium\n",
    "import pandas as pd\n",
    "from selenium import webdriver\n",
    "import warnings\n",
    "warnings.filterwarnings('ignore')\n",
    "from selenium.webdriver.common.by import By\n",
    "import time"
   ]
  },
  {
   "cell_type": "code",
   "execution_count": 25,
   "id": "57d16fc5",
   "metadata": {},
   "outputs": [],
   "source": [
    "driver = webdriver.Chrome()"
   ]
  },
  {
   "cell_type": "code",
   "execution_count": 26,
   "id": "47717c00",
   "metadata": {},
   "outputs": [],
   "source": [
    "#open the digit.in page on automated chrome browser\n",
    "driver.get(\"https://www.digit.in/\")"
   ]
  },
  {
   "cell_type": "markdown",
   "id": "5431f399",
   "metadata": {},
   "source": [
    "**1.Best AMD Gaming Laptops With Nvidia GeForce RTX 3050**"
   ]
  },
  {
   "cell_type": "code",
   "execution_count": 27,
   "id": "b90b6266",
   "metadata": {},
   "outputs": [],
   "source": [
    "click_on_laptop = driver.find_element(By.XPATH,'/html/body/div[1]/header/div/div[2]/div/nav/ul/li[2]')\n",
    "click_on_laptop.click()"
   ]
  },
  {
   "cell_type": "code",
   "execution_count": 28,
   "id": "ad977653",
   "metadata": {},
   "outputs": [],
   "source": [
    "select_series = driver.find_element(By.XPATH,'/html/body/div[1]/header/div/div[2]/div/nav/ul/li[2]/ul/li[3]/ul/li[1]/a')\n",
    "select_series.click()"
   ]
  },
  {
   "cell_type": "code",
   "execution_count": 29,
   "id": "b5ed0346",
   "metadata": {},
   "outputs": [],
   "source": [
    "# empty enumerate\n",
    "Brand = []\n",
    "specification = []"
   ]
  },
  {
   "cell_type": "code",
   "execution_count": 30,
   "id": "ac1b5db2",
   "metadata": {},
   "outputs": [],
   "source": [
    "# scrap brand name and specfication\n",
    "company = driver.find_elements(By.XPATH,'//div[@class=\"rh_gr_top_middle mb10 colored_rate_bar\"]')\n",
    "for i in company:\n",
    "    brands = i.text\n",
    "    Brand.append(brands)\n",
    "    \n",
    "spec = driver.find_elements(By.XPATH,'//div[@class=\"woo_code_zone_loop clearbox\"]')\n",
    "for a in spec:\n",
    "    specification.append(a.text)"
   ]
  },
  {
   "cell_type": "code",
   "execution_count": 31,
   "id": "67fcd398",
   "metadata": {},
   "outputs": [
    {
     "data": {
      "text/html": [
       "<div>\n",
       "<style scoped>\n",
       "    .dataframe tbody tr th:only-of-type {\n",
       "        vertical-align: middle;\n",
       "    }\n",
       "\n",
       "    .dataframe tbody tr th {\n",
       "        vertical-align: top;\n",
       "    }\n",
       "\n",
       "    .dataframe thead th {\n",
       "        text-align: right;\n",
       "    }\n",
       "</style>\n",
       "<table border=\"1\" class=\"dataframe\">\n",
       "  <thead>\n",
       "    <tr style=\"text-align: right;\">\n",
       "      <th></th>\n",
       "      <th>Brand_Name</th>\n",
       "      <th>Specification</th>\n",
       "    </tr>\n",
       "  </thead>\n",
       "  <tbody>\n",
       "    <tr>\n",
       "      <th>0</th>\n",
       "      <td>Lenovo IdeaPad Gaming 3 82K200X3IN Ryzen 7-580...</td>\n",
       "      <td>Operating System:\\nWindows 11 Home\\nDisplay Si...</td>\n",
       "    </tr>\n",
       "    <tr>\n",
       "      <th>1</th>\n",
       "      <td>Dell New G15-5515 D560805WIN9W Ryzen 5-5600H (...</td>\n",
       "      <td>Operating System:\\nWindows 10\\nDisplay Size :\\...</td>\n",
       "    </tr>\n",
       "    <tr>\n",
       "      <th>2</th>\n",
       "      <td>HP Pavilion Gaming 15-ec2145AX Ryzen 5-5600H (...</td>\n",
       "      <td>Operating System:\\nWindows 11 Home\\nDisplay Si...</td>\n",
       "    </tr>\n",
       "    <tr>\n",
       "      <th>3</th>\n",
       "      <td>Lenovo IdeaPad Gaming 3 15ACH6 Ryzen 5-5600H (...</td>\n",
       "      <td>Operating System:\\nWindows 11 Home\\nDisplay Si...</td>\n",
       "    </tr>\n",
       "  </tbody>\n",
       "</table>\n",
       "</div>"
      ],
      "text/plain": [
       "                                          Brand_Name  \\\n",
       "0  Lenovo IdeaPad Gaming 3 82K200X3IN Ryzen 7-580...   \n",
       "1  Dell New G15-5515 D560805WIN9W Ryzen 5-5600H (...   \n",
       "2  HP Pavilion Gaming 15-ec2145AX Ryzen 5-5600H (...   \n",
       "3  Lenovo IdeaPad Gaming 3 15ACH6 Ryzen 5-5600H (...   \n",
       "\n",
       "                                       Specification  \n",
       "0  Operating System:\\nWindows 11 Home\\nDisplay Si...  \n",
       "1  Operating System:\\nWindows 10\\nDisplay Size :\\...  \n",
       "2  Operating System:\\nWindows 11 Home\\nDisplay Si...  \n",
       "3  Operating System:\\nWindows 11 Home\\nDisplay Si...  "
      ]
     },
     "execution_count": 31,
     "metadata": {},
     "output_type": "execute_result"
    }
   ],
   "source": [
    "# create dataframe\n",
    "data=pd.DataFrame({})\n",
    "data['Brand_Name']= Brand\n",
    "data['Specification']= specification\n",
    "data"
   ]
  },
  {
   "cell_type": "markdown",
   "id": "767a66b0",
   "metadata": {},
   "source": [
    "**2. Best AMD Gaming Laptop With 16GB RAM**"
   ]
  },
  {
   "cell_type": "code",
   "execution_count": 40,
   "id": "086c737e",
   "metadata": {},
   "outputs": [],
   "source": [
    "click_on_laptop = driver.find_element(By.XPATH,'/html/body/div[1]/header/div/div[2]/div/nav/ul/li[2]')\n",
    "click_on_laptop.click()"
   ]
  },
  {
   "cell_type": "code",
   "execution_count": 41,
   "id": "04b0850e",
   "metadata": {},
   "outputs": [],
   "source": [
    "select_series = driver.find_element(By.XPATH,'/html/body/div[1]/header/div/div[2]/div/nav/ul/li[2]/ul/li[3]/ul/li[2]/a')\n",
    "select_series.click()"
   ]
  },
  {
   "cell_type": "code",
   "execution_count": 42,
   "id": "d25d014c",
   "metadata": {},
   "outputs": [],
   "source": [
    "Brand = []\n",
    "specification = []"
   ]
  },
  {
   "cell_type": "code",
   "execution_count": 43,
   "id": "25bad0f0",
   "metadata": {},
   "outputs": [],
   "source": [
    "company = driver.find_elements(By.XPATH,'//div[@class=\"rh_gr_top_middle mb10 colored_rate_bar\"]')\n",
    "for i in company:\n",
    "    brands = i.text\n",
    "    Brand.append(brands)\n",
    "    \n",
    "spec = driver.find_elements(By.XPATH,'//div[@class=\"woo_code_zone_loop clearbox\"]')\n",
    "for a in spec:\n",
    "    specification.append(a.text)"
   ]
  },
  {
   "cell_type": "code",
   "execution_count": 44,
   "id": "e4b0a008",
   "metadata": {},
   "outputs": [
    {
     "data": {
      "text/html": [
       "<div>\n",
       "<style scoped>\n",
       "    .dataframe tbody tr th:only-of-type {\n",
       "        vertical-align: middle;\n",
       "    }\n",
       "\n",
       "    .dataframe tbody tr th {\n",
       "        vertical-align: top;\n",
       "    }\n",
       "\n",
       "    .dataframe thead th {\n",
       "        text-align: right;\n",
       "    }\n",
       "</style>\n",
       "<table border=\"1\" class=\"dataframe\">\n",
       "  <thead>\n",
       "    <tr style=\"text-align: right;\">\n",
       "      <th></th>\n",
       "      <th>Brand_Name</th>\n",
       "      <th>Specification</th>\n",
       "    </tr>\n",
       "  </thead>\n",
       "  <tbody>\n",
       "    <tr>\n",
       "      <th>0</th>\n",
       "      <td>HP OMEN 15-en1037AX 5th Gen Ryzen 7-5800H (2021)</td>\n",
       "      <td>Operating System:\\nWindows 10 Home\\nDisplay Si...</td>\n",
       "    </tr>\n",
       "    <tr>\n",
       "      <th>1</th>\n",
       "      <td>Acer Nitro 5 AN515-45-R3TC Ryzen 5-5600H (2021)</td>\n",
       "      <td>Operating System:\\nWindows 10 Home\\nDisplay Si...</td>\n",
       "    </tr>\n",
       "    <tr>\n",
       "      <th>2</th>\n",
       "      <td>Dell New G15-5515 D560730WIN9W Ryzen 7-5800H</td>\n",
       "      <td>Operating System:\\nWindows 11 Home\\nDisplay Si...</td>\n",
       "    </tr>\n",
       "    <tr>\n",
       "      <th>3</th>\n",
       "      <td>Lenovo Ideapad Gaming 3 82K200X2IN Ryzen 7-580...</td>\n",
       "      <td>Operating System:\\nWindows 11 Home\\nDisplay Si...</td>\n",
       "    </tr>\n",
       "  </tbody>\n",
       "</table>\n",
       "</div>"
      ],
      "text/plain": [
       "                                          Brand_Name  \\\n",
       "0   HP OMEN 15-en1037AX 5th Gen Ryzen 7-5800H (2021)   \n",
       "1    Acer Nitro 5 AN515-45-R3TC Ryzen 5-5600H (2021)   \n",
       "2       Dell New G15-5515 D560730WIN9W Ryzen 7-5800H   \n",
       "3  Lenovo Ideapad Gaming 3 82K200X2IN Ryzen 7-580...   \n",
       "\n",
       "                                       Specification  \n",
       "0  Operating System:\\nWindows 10 Home\\nDisplay Si...  \n",
       "1  Operating System:\\nWindows 10 Home\\nDisplay Si...  \n",
       "2  Operating System:\\nWindows 11 Home\\nDisplay Si...  \n",
       "3  Operating System:\\nWindows 11 Home\\nDisplay Si...  "
      ]
     },
     "execution_count": 44,
     "metadata": {},
     "output_type": "execute_result"
    }
   ],
   "source": [
    "data=pd.DataFrame({})\n",
    "data['Brand_Name']= Brand\n",
    "data['Specification']= specification\n",
    "data"
   ]
  },
  {
   "cell_type": "markdown",
   "id": "e6a814cd",
   "metadata": {},
   "source": [
    "**3.Best AMD Gaming Laptops for Students**"
   ]
  },
  {
   "cell_type": "code",
   "execution_count": 45,
   "id": "faaa3a5e",
   "metadata": {},
   "outputs": [],
   "source": [
    "click_on_laptop = driver.find_element(By.XPATH,'/html/body/div[1]/header/div/div[2]/div/nav/ul/li[2]')\n",
    "click_on_laptop.click()"
   ]
  },
  {
   "cell_type": "code",
   "execution_count": 46,
   "id": "034ac4a5",
   "metadata": {},
   "outputs": [],
   "source": [
    "select_series = driver.find_element(By.XPATH,'/html/body/div[1]/header/div/div[2]/div/nav/ul/li[2]/ul/li[3]/ul/li[3]/a')\n",
    "select_series.click()"
   ]
  },
  {
   "cell_type": "code",
   "execution_count": 47,
   "id": "e78eaf0e",
   "metadata": {},
   "outputs": [],
   "source": [
    "Brand = []\n",
    "specification = []"
   ]
  },
  {
   "cell_type": "code",
   "execution_count": 48,
   "id": "e3729260",
   "metadata": {},
   "outputs": [],
   "source": [
    "company = driver.find_elements(By.XPATH,'//div[@class=\"rh_gr_top_middle mb10 colored_rate_bar\"]')\n",
    "for i in company:\n",
    "    brands = i.text\n",
    "    Brand.append(brands)\n",
    "    \n",
    "spec = driver.find_elements(By.XPATH,'//div[@class=\"woo_code_zone_loop clearbox\"]')\n",
    "for a in spec:\n",
    "    specification.append(a.text)"
   ]
  },
  {
   "cell_type": "code",
   "execution_count": 49,
   "id": "f99e2464",
   "metadata": {},
   "outputs": [
    {
     "data": {
      "text/html": [
       "<div>\n",
       "<style scoped>\n",
       "    .dataframe tbody tr th:only-of-type {\n",
       "        vertical-align: middle;\n",
       "    }\n",
       "\n",
       "    .dataframe tbody tr th {\n",
       "        vertical-align: top;\n",
       "    }\n",
       "\n",
       "    .dataframe thead th {\n",
       "        text-align: right;\n",
       "    }\n",
       "</style>\n",
       "<table border=\"1\" class=\"dataframe\">\n",
       "  <thead>\n",
       "    <tr style=\"text-align: right;\">\n",
       "      <th></th>\n",
       "      <th>Brand_Name</th>\n",
       "      <th>Specification</th>\n",
       "    </tr>\n",
       "  </thead>\n",
       "  <tbody>\n",
       "    <tr>\n",
       "      <th>0</th>\n",
       "      <td>HP Victus 16-e0362ax 5th Gen Ryzen 7-5800H (2022)</td>\n",
       "      <td>Operating System:\\nWindows 11 Home\\nDisplay Si...</td>\n",
       "    </tr>\n",
       "    <tr>\n",
       "      <th>1</th>\n",
       "      <td>Acer Nitro 5 AN515-45-R3TC Ryzen 5-5600H (2021)</td>\n",
       "      <td>Operating System:\\nWindows 10 Home\\nDisplay Si...</td>\n",
       "    </tr>\n",
       "    <tr>\n",
       "      <th>2</th>\n",
       "      <td>Dell New G15-5515 D560804WIN9W Ryzen 5-5600H (...</td>\n",
       "      <td>Operating System:\\nWindows 11 Home\\nDisplay Si...</td>\n",
       "    </tr>\n",
       "    <tr>\n",
       "      <th>3</th>\n",
       "      <td>HP Pavilion Gaming 15-EC2048AX Ryzen 5-5600X</td>\n",
       "      <td>Operating System:\\nWindows 10 Home\\nDisplay Si...</td>\n",
       "    </tr>\n",
       "    <tr>\n",
       "      <th>4</th>\n",
       "      <td>Lenovo Ideapad Gaming 3 82K201RRIN AMD Ryzen 5...</td>\n",
       "      <td>Operating System:\\nWindows 11 Home\\nDisplay Si...</td>\n",
       "    </tr>\n",
       "  </tbody>\n",
       "</table>\n",
       "</div>"
      ],
      "text/plain": [
       "                                          Brand_Name  \\\n",
       "0  HP Victus 16-e0362ax 5th Gen Ryzen 7-5800H (2022)   \n",
       "1    Acer Nitro 5 AN515-45-R3TC Ryzen 5-5600H (2021)   \n",
       "2  Dell New G15-5515 D560804WIN9W Ryzen 5-5600H (...   \n",
       "3       HP Pavilion Gaming 15-EC2048AX Ryzen 5-5600X   \n",
       "4  Lenovo Ideapad Gaming 3 82K201RRIN AMD Ryzen 5...   \n",
       "\n",
       "                                       Specification  \n",
       "0  Operating System:\\nWindows 11 Home\\nDisplay Si...  \n",
       "1  Operating System:\\nWindows 10 Home\\nDisplay Si...  \n",
       "2  Operating System:\\nWindows 11 Home\\nDisplay Si...  \n",
       "3  Operating System:\\nWindows 10 Home\\nDisplay Si...  \n",
       "4  Operating System:\\nWindows 11 Home\\nDisplay Si...  "
      ]
     },
     "execution_count": 49,
     "metadata": {},
     "output_type": "execute_result"
    }
   ],
   "source": [
    "data=pd.DataFrame({})\n",
    "data['Brand_Name']= Brand\n",
    "data['Specification']= specification\n",
    "data"
   ]
  },
  {
   "cell_type": "markdown",
   "id": "453f7a8e",
   "metadata": {},
   "source": [
    "**4 Best AMD gaming laptop with Nvidia Geforce RTX 3060**"
   ]
  },
  {
   "cell_type": "code",
   "execution_count": 51,
   "id": "8b07aea2",
   "metadata": {},
   "outputs": [],
   "source": [
    "click_on_laptop = driver.find_element(By.XPATH,'/html/body/div[1]/header/div/div[2]/div/nav/ul/li[2]')\n",
    "click_on_laptop.click()"
   ]
  },
  {
   "cell_type": "code",
   "execution_count": 52,
   "id": "7fad893e",
   "metadata": {},
   "outputs": [],
   "source": [
    "select_series = driver.find_element(By.XPATH,'/html/body/div[1]/header/div/div[2]/div/nav/ul/li[2]/ul/li[3]/ul/li[4]/a')\n",
    "select_series.click()"
   ]
  },
  {
   "cell_type": "code",
   "execution_count": 53,
   "id": "7bfef7aa",
   "metadata": {},
   "outputs": [],
   "source": [
    "Brand = []\n",
    "specification = []"
   ]
  },
  {
   "cell_type": "code",
   "execution_count": 54,
   "id": "a9652607",
   "metadata": {},
   "outputs": [],
   "source": [
    "company = driver.find_elements(By.XPATH,'//div[@class=\"rh_gr_top_middle mb10 colored_rate_bar\"]')\n",
    "for i in company:\n",
    "    brands = i.text\n",
    "    Brand.append(brands)\n",
    "    \n",
    "spec = driver.find_elements(By.XPATH,'//div[@class=\"woo_code_zone_loop clearbox\"]')\n",
    "for a in spec:\n",
    "    specification.append(a.text)"
   ]
  },
  {
   "cell_type": "code",
   "execution_count": 55,
   "id": "4081ad5d",
   "metadata": {},
   "outputs": [
    {
     "data": {
      "text/html": [
       "<div>\n",
       "<style scoped>\n",
       "    .dataframe tbody tr th:only-of-type {\n",
       "        vertical-align: middle;\n",
       "    }\n",
       "\n",
       "    .dataframe tbody tr th {\n",
       "        vertical-align: top;\n",
       "    }\n",
       "\n",
       "    .dataframe thead th {\n",
       "        text-align: right;\n",
       "    }\n",
       "</style>\n",
       "<table border=\"1\" class=\"dataframe\">\n",
       "  <thead>\n",
       "    <tr style=\"text-align: right;\">\n",
       "      <th></th>\n",
       "      <th>Brand_Name</th>\n",
       "      <th>Specification</th>\n",
       "    </tr>\n",
       "  </thead>\n",
       "  <tbody>\n",
       "    <tr>\n",
       "      <th>0</th>\n",
       "      <td>Acer Nitro 5 AN515-45 NH.QBCSI.002 Ryzen 7-580...</td>\n",
       "      <td>Operating System:\\nWindows 10 Home\\nDisplay Si...</td>\n",
       "    </tr>\n",
       "    <tr>\n",
       "      <th>1</th>\n",
       "      <td>HP Victus 16-e0362ax 5th Gen Ryzen 7-5800H (2022)</td>\n",
       "      <td>Operating System:\\nWindows 11 Home\\nDisplay Si...</td>\n",
       "    </tr>\n",
       "    <tr>\n",
       "      <th>2</th>\n",
       "      <td>Lenovo Legion 5 82JU010NIN 5th Gen Ryzen 7-5800H</td>\n",
       "      <td>Operating System:\\nWindows 10 Home\\nDisplay Si...</td>\n",
       "    </tr>\n",
       "    <tr>\n",
       "      <th>3</th>\n",
       "      <td>DELL ALIENWARE M15 R5 GAMING Ryzen R7-5800H (2...</td>\n",
       "      <td>Operating System:\\nWindows 11 Home\\nDisplay Si...</td>\n",
       "    </tr>\n",
       "  </tbody>\n",
       "</table>\n",
       "</div>"
      ],
      "text/plain": [
       "                                          Brand_Name  \\\n",
       "0  Acer Nitro 5 AN515-45 NH.QBCSI.002 Ryzen 7-580...   \n",
       "1  HP Victus 16-e0362ax 5th Gen Ryzen 7-5800H (2022)   \n",
       "2   Lenovo Legion 5 82JU010NIN 5th Gen Ryzen 7-5800H   \n",
       "3  DELL ALIENWARE M15 R5 GAMING Ryzen R7-5800H (2...   \n",
       "\n",
       "                                       Specification  \n",
       "0  Operating System:\\nWindows 10 Home\\nDisplay Si...  \n",
       "1  Operating System:\\nWindows 11 Home\\nDisplay Si...  \n",
       "2  Operating System:\\nWindows 10 Home\\nDisplay Si...  \n",
       "3  Operating System:\\nWindows 11 Home\\nDisplay Si...  "
      ]
     },
     "execution_count": 55,
     "metadata": {},
     "output_type": "execute_result"
    }
   ],
   "source": [
    "data=pd.DataFrame({})\n",
    "data['Brand_Name']= Brand\n",
    "data['Specification']= specification\n",
    "data"
   ]
  },
  {
   "cell_type": "code",
   "execution_count": 56,
   "id": "82f348c9",
   "metadata": {},
   "outputs": [],
   "source": [
    "driver.close()"
   ]
  },
  {
   "cell_type": "markdown",
   "id": "81a8bac5",
   "metadata": {},
   "source": [
    "**Questio 8**-Write a program to extract at least 500 Comments, Comment upvote and time when comment was posted\n",
    "from any YouTube Video."
   ]
  },
  {
   "cell_type": "code",
   "execution_count": 40,
   "id": "1c164b50",
   "metadata": {},
   "outputs": [],
   "source": [
    "# import necessary library\n",
    "import selenium\n",
    "import pandas as pd\n",
    "from selenium import webdriver\n",
    "import warnings\n",
    "warnings.filterwarnings('ignore')\n",
    "from selenium.webdriver.common.by import By\n",
    "import time"
   ]
  },
  {
   "cell_type": "code",
   "execution_count": 41,
   "id": "3909bf4c",
   "metadata": {},
   "outputs": [],
   "source": [
    "driver = webdriver.Chrome()"
   ]
  },
  {
   "cell_type": "code",
   "execution_count": 42,
   "id": "64d2d1d1",
   "metadata": {},
   "outputs": [],
   "source": [
    "#open the youtube page on automated chrome browser\n",
    "driver.get(\"https://www.youtube.com/\")"
   ]
  },
  {
   "cell_type": "code",
   "execution_count": 43,
   "id": "e9613b92",
   "metadata": {},
   "outputs": [],
   "source": [
    "# search the search box and enter the those you want\n",
    "search_bar = driver.find_element(By.XPATH,'/html/body/ytd-app/div[1]/div/ytd-masthead/div[4]/div[2]/ytd-searchbox/form/div[1]/div[1]/input')\n",
    "search_bar.send_keys(\"bb ki vines\")"
   ]
  },
  {
   "cell_type": "code",
   "execution_count": 44,
   "id": "7ab3050a",
   "metadata": {},
   "outputs": [],
   "source": [
    "button = driver.find_element(By.XPATH,'/html/body/ytd-app/div[1]/div/ytd-masthead/div[4]/div[2]/ytd-searchbox/button')\n",
    "button.click()"
   ]
  },
  {
   "cell_type": "code",
   "execution_count": 45,
   "id": "e263d1f5",
   "metadata": {},
   "outputs": [],
   "source": [
    "select_video = driver.find_element(By.XPATH,'/html/body/ytd-app/div[1]/ytd-page-manager/ytd-search/div[1]/ytd-two-column-search-results-renderer/div/ytd-section-list-renderer/div[2]/ytd-item-section-renderer/div[3]/ytd-shelf-renderer[1]/div[1]/div[2]/ytd-vertical-list-renderer/div[1]/ytd-video-renderer[1]/div[1]/div/div[1]/div/h3/a/yt-formatted-string')\n",
    "select_video.click()"
   ]
  },
  {
   "cell_type": "code",
   "execution_count": 46,
   "id": "8cc29d76",
   "metadata": {},
   "outputs": [
    {
     "name": "stdout",
     "output_type": "stream",
     "text": [
      "scroll page for generate more comments\n"
     ]
    }
   ],
   "source": [
    "# 1000 time we scroll down by 10000 in order to generate more images on the website.\n",
    "print(\"scroll page for generate more comments\")\n",
    "for _ in range(1000):\n",
    "    driver.execute_script(\"window.scrollBy(0,10000)\")"
   ]
  },
  {
   "cell_type": "code",
   "execution_count": 47,
   "id": "ee063489",
   "metadata": {},
   "outputs": [],
   "source": [
    "# scrap enumerate\n",
    "comment = []\n",
    "upvote = []\n",
    "time = []"
   ]
  },
  {
   "cell_type": "code",
   "execution_count": 48,
   "id": "f14aeda5",
   "metadata": {},
   "outputs": [],
   "source": [
    "# scrap comments\n",
    "comm = driver.find_elements(By.XPATH,'//yt-formatted-string[@class=\"style-scope ytd-comment-renderer\"]')\n",
    "for i in comm:\n",
    "    commentss = i.text\n",
    "    comment.append(commentss)"
   ]
  },
  {
   "cell_type": "code",
   "execution_count": 53,
   "id": "b9d99c47",
   "metadata": {},
   "outputs": [],
   "source": [
    "# scrap upvote\n",
    "up = driver.find_elements(By.XPATH,'//span[@id=\"vote-count-middle\"]')\n",
    "for i in up:\n",
    "    vote = i.text\n",
    "    upvote.append(vote)"
   ]
  },
  {
   "cell_type": "code",
   "execution_count": 51,
   "id": "5299f58a",
   "metadata": {},
   "outputs": [],
   "source": [
    "# scrap time\n",
    "timm = driver.find_elements(By.XPATH,'//yt-formatted-string[@class=\"published-time-text style-scope ytd-comment-renderer\"]')\n",
    "for i in timm:\n",
    "    times = i.text\n",
    "    time.append(times)"
   ]
  },
  {
   "cell_type": "code",
   "execution_count": 54,
   "id": "b329b583",
   "metadata": {},
   "outputs": [
    {
     "data": {
      "text/html": [
       "<div>\n",
       "<style scoped>\n",
       "    .dataframe tbody tr th:only-of-type {\n",
       "        vertical-align: middle;\n",
       "    }\n",
       "\n",
       "    .dataframe tbody tr th {\n",
       "        vertical-align: top;\n",
       "    }\n",
       "\n",
       "    .dataframe thead th {\n",
       "        text-align: right;\n",
       "    }\n",
       "</style>\n",
       "<table border=\"1\" class=\"dataframe\">\n",
       "  <thead>\n",
       "    <tr style=\"text-align: right;\">\n",
       "      <th></th>\n",
       "      <th>Comments</th>\n",
       "      <th>UP_VOTE</th>\n",
       "      <th>Time</th>\n",
       "    </tr>\n",
       "  </thead>\n",
       "  <tbody>\n",
       "    <tr>\n",
       "      <th>0</th>\n",
       "      <td>Iss episode pe LIKE dabaana hai ok? Gives me m...</td>\n",
       "      <td></td>\n",
       "      <td>1 month ago</td>\n",
       "    </tr>\n",
       "    <tr>\n",
       "      <th>1</th>\n",
       "      <td>Jis ghar mein samman nahi behen ka, uss lanka ...</td>\n",
       "      <td>33K</td>\n",
       "      <td>1 month ago</td>\n",
       "    </tr>\n",
       "    <tr>\n",
       "      <th>2</th>\n",
       "      <td>\" Attitude tab dekhao jab utne Altitude tak po...</td>\n",
       "      <td></td>\n",
       "      <td>1 month ago</td>\n",
       "    </tr>\n",
       "    <tr>\n",
       "      <th>3</th>\n",
       "      <td>Goodbye bhuvan Bhai... See you after another 6...</td>\n",
       "      <td>31K</td>\n",
       "      <td>1 month ago</td>\n",
       "    </tr>\n",
       "    <tr>\n",
       "      <th>4</th>\n",
       "      <td>2023 all memes covered in just one video .  Ha...</td>\n",
       "      <td></td>\n",
       "      <td>3 weeks ago</td>\n",
       "    </tr>\n",
       "    <tr>\n",
       "      <th>...</th>\n",
       "      <td>...</td>\n",
       "      <td>...</td>\n",
       "      <td>...</td>\n",
       "    </tr>\n",
       "    <tr>\n",
       "      <th>495</th>\n",
       "      <td>AAJ TAK MAINE MUTTHI KHOLI NHI HAI, MARI HAI B...</td>\n",
       "      <td></td>\n",
       "      <td>10 days ago (edited)</td>\n",
       "    </tr>\n",
       "    <tr>\n",
       "      <th>496</th>\n",
       "      <td>Very thoughtful video</td>\n",
       "      <td></td>\n",
       "      <td>1 month ago</td>\n",
       "    </tr>\n",
       "    <tr>\n",
       "      <th>497</th>\n",
       "      <td>Maja aali  afterrrrr so long YouTube var video...</td>\n",
       "      <td></td>\n",
       "      <td>3 weeks ago</td>\n",
       "    </tr>\n",
       "    <tr>\n",
       "      <th>498</th>\n",
       "      <td>This episode was so good that it never felt li...</td>\n",
       "      <td></td>\n",
       "      <td>1 month ago</td>\n",
       "    </tr>\n",
       "    <tr>\n",
       "      <th>499</th>\n",
       "      <td>Titu mama always rock's</td>\n",
       "      <td></td>\n",
       "      <td>1 month ago</td>\n",
       "    </tr>\n",
       "  </tbody>\n",
       "</table>\n",
       "<p>500 rows × 3 columns</p>\n",
       "</div>"
      ],
      "text/plain": [
       "                                              Comments UP_VOTE  \\\n",
       "0    Iss episode pe LIKE dabaana hai ok? Gives me m...           \n",
       "1    Jis ghar mein samman nahi behen ka, uss lanka ...     33K   \n",
       "2    \" Attitude tab dekhao jab utne Altitude tak po...           \n",
       "3    Goodbye bhuvan Bhai... See you after another 6...     31K   \n",
       "4    2023 all memes covered in just one video .  Ha...           \n",
       "..                                                 ...     ...   \n",
       "495  AAJ TAK MAINE MUTTHI KHOLI NHI HAI, MARI HAI B...           \n",
       "496                             Very thoughtful video            \n",
       "497  Maja aali  afterrrrr so long YouTube var video...           \n",
       "498  This episode was so good that it never felt li...           \n",
       "499                           Titu mama always rock's            \n",
       "\n",
       "                     Time  \n",
       "0             1 month ago  \n",
       "1             1 month ago  \n",
       "2             1 month ago  \n",
       "3             1 month ago  \n",
       "4             3 weeks ago  \n",
       "..                    ...  \n",
       "495  10 days ago (edited)  \n",
       "496           1 month ago  \n",
       "497           3 weeks ago  \n",
       "498           1 month ago  \n",
       "499           1 month ago  \n",
       "\n",
       "[500 rows x 3 columns]"
      ]
     },
     "execution_count": 54,
     "metadata": {},
     "output_type": "execute_result"
    }
   ],
   "source": [
    "# create dataframe\n",
    "data=pd.DataFrame({})\n",
    "data['Comments']= comment[:500]\n",
    "data['UP_VOTE']= upvote[:500]\n",
    "data['Time']= time[:500]\n",
    "data"
   ]
  },
  {
   "cell_type": "markdown",
   "id": "866c9ecb",
   "metadata": {},
   "source": [
    "**Question 9**- Write a python program to scrape a data for all available Hostels from https://www.hostelworld.com/ in\n",
    "“London” location. You have to scrape hostel name, distance from city centre, ratings, total reviews, overall\n",
    "reviews, privates from price, dorms from price, facilities and property description. \n"
   ]
  },
  {
   "cell_type": "code",
   "execution_count": 1,
   "id": "411dc3cb",
   "metadata": {},
   "outputs": [],
   "source": [
    "# import necessary library\n",
    "import selenium\n",
    "import pandas as pd\n",
    "from selenium import webdriver\n",
    "import warnings\n",
    "warnings.filterwarnings('ignore')\n",
    "from selenium.webdriver.common.by import By\n",
    "import time"
   ]
  },
  {
   "cell_type": "code",
   "execution_count": 72,
   "id": "fed5b7e2",
   "metadata": {},
   "outputs": [],
   "source": [
    "driver = webdriver.Chrome()"
   ]
  },
  {
   "cell_type": "code",
   "execution_count": 73,
   "id": "4cb02f78",
   "metadata": {},
   "outputs": [],
   "source": [
    "#open the hostelworld page on automated chrome browser\n",
    "driver.get(\"https://www.hostelworld.com/\")"
   ]
  },
  {
   "cell_type": "code",
   "execution_count": 74,
   "id": "3b8545da",
   "metadata": {},
   "outputs": [],
   "source": [
    "# search the search box and enter city name\n",
    "search_bar = driver.find_element(By.XPATH,'/html/body/div[3]/div/div/div[2]/div[2]/div[2]/div/div/div/div[1]/div[1]/div/div[2]/input')\n",
    "search_bar.send_keys(\"London\")"
   ]
  },
  {
   "cell_type": "code",
   "execution_count": 76,
   "id": "a0e27306",
   "metadata": {},
   "outputs": [],
   "source": [
    "result = driver.find_element(By.XPATH,'/html/body/div[3]/div/div/div[2]/div[2]/div[2]/div/div/div/div[1]/div[2]/div/ul/li[2]/button/div[2]/div[1]')\n",
    "result.click()"
   ]
  },
  {
   "cell_type": "code",
   "execution_count": 79,
   "id": "599facd8",
   "metadata": {},
   "outputs": [],
   "source": [
    "button = driver.find_element(By.XPATH,'/html/body/div[3]/div/div/div[2]/div[2]/div[2]/div/div/div/div[5]/button[1]')\n",
    "button.click()"
   ]
  },
  {
   "cell_type": "code",
   "execution_count": 80,
   "id": "e951172e",
   "metadata": {},
   "outputs": [],
   "source": [
    "# empty enumerate\n",
    "name = []\n",
    "centre = []\n",
    "rating = []\n",
    "review = []\n",
    "total_review=[]\n",
    "price = []\n"
   ]
  },
  {
   "cell_type": "code",
   "execution_count": 81,
   "id": "8bbe4858",
   "metadata": {},
   "outputs": [],
   "source": [
    "#scraping hostel name\n",
    "hostel = driver.find_elements(By.XPATH,'//div[@class=\"property-name\"]')\n",
    "for i in hostel:\n",
    "    hn = i.text\n",
    "    name.append(hn)"
   ]
  },
  {
   "cell_type": "code",
   "execution_count": 82,
   "id": "427083da",
   "metadata": {},
   "outputs": [],
   "source": [
    "# scrap centre from the city\n",
    "middle = driver.find_elements(By.XPATH,'//div[@class=\"property-distance\"]')\n",
    "for i in middle:\n",
    "    cfc = i.text\n",
    "    centre.append(cfc)\n",
    "    "
   ]
  },
  {
   "cell_type": "code",
   "execution_count": 83,
   "id": "112d25bc",
   "metadata": {},
   "outputs": [],
   "source": [
    "# scrap ratings\n",
    "rate = driver.find_elements(By.XPATH,'//span[@class=\"number\"]')\n",
    "for i in rate:\n",
    "    rates = i.text\n",
    "    rating.append(rates)"
   ]
  },
  {
   "cell_type": "code",
   "execution_count": 84,
   "id": "4a557eb4",
   "metadata": {},
   "outputs": [],
   "source": [
    "# scrap review\n",
    "rev = driver.find_elements(By.XPATH,'//span[@class=\"keyword\"]')\n",
    "for i in rev:\n",
    "    reviews = i.text\n",
    "    review.append(reviews)"
   ]
  },
  {
   "cell_type": "code",
   "execution_count": 85,
   "id": "bba9ae44",
   "metadata": {},
   "outputs": [],
   "source": [
    "# total_review\n",
    "total = driver.find_elements(By.XPATH,'//div[@class=\"review\"]')\n",
    "for i in total:\n",
    "    count = i.text\n",
    "    total_review.append(count)"
   ]
  },
  {
   "cell_type": "code",
   "execution_count": 86,
   "id": "820ba868",
   "metadata": {},
   "outputs": [],
   "source": [
    "# scrap price\n",
    "pricee = driver.find_elements(By.XPATH,'//div[@class=\"property-accommodations\"]')\n",
    "for i in pricee:\n",
    "    prices = i.text\n",
    "    price.append(prices.replace('\\n',''))"
   ]
  },
  {
   "cell_type": "code",
   "execution_count": 89,
   "id": "9be183fd",
   "metadata": {},
   "outputs": [
    {
     "data": {
      "text/html": [
       "<div>\n",
       "<style scoped>\n",
       "    .dataframe tbody tr th:only-of-type {\n",
       "        vertical-align: middle;\n",
       "    }\n",
       "\n",
       "    .dataframe tbody tr th {\n",
       "        vertical-align: top;\n",
       "    }\n",
       "\n",
       "    .dataframe thead th {\n",
       "        text-align: right;\n",
       "    }\n",
       "</style>\n",
       "<table border=\"1\" class=\"dataframe\">\n",
       "  <thead>\n",
       "    <tr style=\"text-align: right;\">\n",
       "      <th></th>\n",
       "      <th>Hostel</th>\n",
       "      <th>Centre from city</th>\n",
       "      <th>Ratings</th>\n",
       "      <th>Reviews</th>\n",
       "      <th>Total review</th>\n",
       "      <th>Price</th>\n",
       "    </tr>\n",
       "  </thead>\n",
       "  <tbody>\n",
       "    <tr>\n",
       "      <th>0</th>\n",
       "      <td>Wombat's City Hostel London</td>\n",
       "      <td>Hostel\\n- 3.6km from city centre</td>\n",
       "      <td>9.0</td>\n",
       "      <td>Superb</td>\n",
       "      <td>(15676)</td>\n",
       "      <td>-25%Privates From₹14,953₹11,215-25%Dorms From₹...</td>\n",
       "    </tr>\n",
       "    <tr>\n",
       "      <th>1</th>\n",
       "      <td>St Christopher's Village</td>\n",
       "      <td>Hostel\\n- 1.8km from city centre</td>\n",
       "      <td>8.1</td>\n",
       "      <td>Fabulous</td>\n",
       "      <td>(12750)</td>\n",
       "      <td>No Privates Available-10%Dorms From₹1,688₹1,519</td>\n",
       "    </tr>\n",
       "    <tr>\n",
       "      <th>2</th>\n",
       "      <td>Palmers Lodge - Swiss Cottage</td>\n",
       "      <td>Hostel\\n- 6.5km from city centre</td>\n",
       "      <td>8.8</td>\n",
       "      <td>Fabulous</td>\n",
       "      <td>(15883)</td>\n",
       "      <td>No Privates Available-26%Dorms From₹3,001₹2,221</td>\n",
       "    </tr>\n",
       "    <tr>\n",
       "      <th>3</th>\n",
       "      <td>Onefam Notting Hill</td>\n",
       "      <td>Hostel\\n- 5.5km from city centre</td>\n",
       "      <td>9.6</td>\n",
       "      <td>Superb</td>\n",
       "      <td>(2469)</td>\n",
       "      <td>Privates From₹15,053Dorms From₹3,658</td>\n",
       "    </tr>\n",
       "    <tr>\n",
       "      <th>4</th>\n",
       "      <td>Urbany Hostel London</td>\n",
       "      <td>Hostel\\n- 5.4km from city centre</td>\n",
       "      <td>9.5</td>\n",
       "      <td>Superb</td>\n",
       "      <td>(1073)</td>\n",
       "      <td>Privates From₹14,711Dorms From₹2,749</td>\n",
       "    </tr>\n",
       "    <tr>\n",
       "      <th>5</th>\n",
       "      <td>Generator London</td>\n",
       "      <td>Hostel\\n- 3km from city centre</td>\n",
       "      <td>7.6</td>\n",
       "      <td>Very Good</td>\n",
       "      <td>(7989)</td>\n",
       "      <td>Privates From₹11,986Dorms From₹2,724</td>\n",
       "    </tr>\n",
       "    <tr>\n",
       "      <th>6</th>\n",
       "      <td>Safestay London Elephant &amp; Castle</td>\n",
       "      <td>Hostel\\n- 1.7km from city centre</td>\n",
       "      <td>7.2</td>\n",
       "      <td>Very Good</td>\n",
       "      <td>(5239)</td>\n",
       "      <td>Privates From₹10,964Dorms From₹2,114</td>\n",
       "    </tr>\n",
       "    <tr>\n",
       "      <th>7</th>\n",
       "      <td>Astor Hyde Park</td>\n",
       "      <td>Hostel\\n- 4.3km from city centre</td>\n",
       "      <td>8.2</td>\n",
       "      <td>Fabulous</td>\n",
       "      <td>(12274)</td>\n",
       "      <td>No Privates AvailableDorms From₹1,580</td>\n",
       "    </tr>\n",
       "    <tr>\n",
       "      <th>8</th>\n",
       "      <td>NX London Hostel</td>\n",
       "      <td>Hostel\\n- 6.1km from city centre</td>\n",
       "      <td>8.6</td>\n",
       "      <td>Fabulous</td>\n",
       "      <td>(2074)</td>\n",
       "      <td>-25%Privates From₹6,243₹4,682-25%Dorms From₹1,...</td>\n",
       "    </tr>\n",
       "    <tr>\n",
       "      <th>9</th>\n",
       "      <td>Safestay London Kensington Holland Park</td>\n",
       "      <td>Hostel\\n- 5.8km from city centre</td>\n",
       "      <td>6.9</td>\n",
       "      <td>Good</td>\n",
       "      <td>(1745)</td>\n",
       "      <td>-10%Privates From₹8,100₹7,290-10%Dorms From₹1,...</td>\n",
       "    </tr>\n",
       "    <tr>\n",
       "      <th>10</th>\n",
       "      <td>Clink261</td>\n",
       "      <td>Hostel\\n- 3.2km from city centre</td>\n",
       "      <td>7.9</td>\n",
       "      <td>Very Good</td>\n",
       "      <td>(477)</td>\n",
       "      <td>Privates From₹11,100Dorms From₹2,107</td>\n",
       "    </tr>\n",
       "    <tr>\n",
       "      <th>11</th>\n",
       "      <td>No.8 Willesden Hostel London</td>\n",
       "      <td>Hostel\\n- 10km from city centre</td>\n",
       "      <td>7.2</td>\n",
       "      <td>Very Good</td>\n",
       "      <td>(5170)</td>\n",
       "      <td>Privates From₹2,522Dorms From₹837</td>\n",
       "    </tr>\n",
       "    <tr>\n",
       "      <th>12</th>\n",
       "      <td>Smart Russell Square Hostel</td>\n",
       "      <td>Hostel\\n- 2.6km from city centre</td>\n",
       "      <td>7.5</td>\n",
       "      <td>Very Good</td>\n",
       "      <td>(10173)</td>\n",
       "      <td>Privates From₹15,649Dorms From₹1,938</td>\n",
       "    </tr>\n",
       "    <tr>\n",
       "      <th>13</th>\n",
       "      <td>Queen Elizabeth Chelsea</td>\n",
       "      <td>Hostel\\n- 5.7km from city centre</td>\n",
       "      <td>7.4</td>\n",
       "      <td>Very Good</td>\n",
       "      <td>(3661)</td>\n",
       "      <td>Privates From₹6,068Dorms From₹1,282</td>\n",
       "    </tr>\n",
       "    <tr>\n",
       "      <th>14</th>\n",
       "      <td>Destinations Hostels @ The Gallery</td>\n",
       "      <td>Hostel\\n- 1.7km from city centre</td>\n",
       "      <td>9.2</td>\n",
       "      <td>Superb</td>\n",
       "      <td>(294)</td>\n",
       "      <td>No Privates AvailableDorms From₹5,002</td>\n",
       "    </tr>\n",
       "    <tr>\n",
       "      <th>15</th>\n",
       "      <td>Hostelle - women only hostel London</td>\n",
       "      <td>Hostel\\n- 5.1km from city centre</td>\n",
       "      <td>8.7</td>\n",
       "      <td>Fabulous</td>\n",
       "      <td>(97)</td>\n",
       "      <td>No Privates AvailableDorms From₹3,159</td>\n",
       "    </tr>\n",
       "    <tr>\n",
       "      <th>16</th>\n",
       "      <td>No.8 Seven Sisters</td>\n",
       "      <td>Hostel\\n- 9km from city centre</td>\n",
       "      <td>7.2</td>\n",
       "      <td>Very Good</td>\n",
       "      <td>(4139)</td>\n",
       "      <td>No Privates AvailableDorms From₹995</td>\n",
       "    </tr>\n",
       "    <tr>\n",
       "      <th>17</th>\n",
       "      <td>Phoenix Hostel</td>\n",
       "      <td>Hostel\\n- 4.2km from city centre</td>\n",
       "      <td>6.9</td>\n",
       "      <td>Good</td>\n",
       "      <td>(4591)</td>\n",
       "      <td>No Privates Available-5%Dorms From₹1,802₹1,712</td>\n",
       "    </tr>\n",
       "    <tr>\n",
       "      <th>18</th>\n",
       "      <td>Smart Hyde Park Inn Hostel</td>\n",
       "      <td>Hostel\\n- 5km from city centre</td>\n",
       "      <td>7.7</td>\n",
       "      <td>Very Good</td>\n",
       "      <td>(6787)</td>\n",
       "      <td>No Privates AvailableDorms From₹1,727</td>\n",
       "    </tr>\n",
       "    <tr>\n",
       "      <th>19</th>\n",
       "      <td>The Walrus Hostel</td>\n",
       "      <td>Hostel\\n- 0.2km from city centre</td>\n",
       "      <td>8.0</td>\n",
       "      <td>Fabulous</td>\n",
       "      <td>(4275)</td>\n",
       "      <td>No Privates Available-15%Dorms From₹2,475₹2,104</td>\n",
       "    </tr>\n",
       "    <tr>\n",
       "      <th>20</th>\n",
       "      <td>St Christopher's Hammersmith</td>\n",
       "      <td>Hostel\\n- 7.5km from city centre</td>\n",
       "      <td>7.6</td>\n",
       "      <td>Very Good</td>\n",
       "      <td>(4368)</td>\n",
       "      <td>No Privates Available-10%Dorms From₹1,449₹1,304</td>\n",
       "    </tr>\n",
       "    <tr>\n",
       "      <th>21</th>\n",
       "      <td>YHA London Oxford Street</td>\n",
       "      <td>Hostel\\n- 2.1km from city centre</td>\n",
       "      <td>9.0</td>\n",
       "      <td>Superb</td>\n",
       "      <td>(4695)</td>\n",
       "      <td>Privates From₹7,372No Dorms Available</td>\n",
       "    </tr>\n",
       "    <tr>\n",
       "      <th>22</th>\n",
       "      <td>Prime Backpackers Angel</td>\n",
       "      <td>Hostel\\n- 3.6km from city centre</td>\n",
       "      <td>8.1</td>\n",
       "      <td>Fabulous</td>\n",
       "      <td>(854)</td>\n",
       "      <td>Privates From₹10,398Dorms From₹2,779</td>\n",
       "    </tr>\n",
       "    <tr>\n",
       "      <th>23</th>\n",
       "      <td>Astor Victoria</td>\n",
       "      <td>Hostel\\n- 1.8km from city centre</td>\n",
       "      <td>7.2</td>\n",
       "      <td>Very Good</td>\n",
       "      <td>(15079)</td>\n",
       "      <td>Privates From₹7,266Dorms From₹1,580</td>\n",
       "    </tr>\n",
       "    <tr>\n",
       "      <th>24</th>\n",
       "      <td>Kabannas London St Pancras</td>\n",
       "      <td>Hostel\\n- 3.3km from city centre</td>\n",
       "      <td>8.3</td>\n",
       "      <td>Fabulous</td>\n",
       "      <td>(2955)</td>\n",
       "      <td>Privates From₹18,772Dorms From₹3,249</td>\n",
       "    </tr>\n",
       "    <tr>\n",
       "      <th>25</th>\n",
       "      <td>Barmy Badger Backpackers</td>\n",
       "      <td>Hostel\\n- 5.5km from city centre</td>\n",
       "      <td>9.0</td>\n",
       "      <td>Superb</td>\n",
       "      <td>(2034)</td>\n",
       "      <td>Privates From₹8,478Dorms From₹2,527</td>\n",
       "    </tr>\n",
       "    <tr>\n",
       "      <th>26</th>\n",
       "      <td>Saint James Backpackers</td>\n",
       "      <td>Hostel\\n- 5.5km from city centre</td>\n",
       "      <td>7.5</td>\n",
       "      <td>Very Good</td>\n",
       "      <td>(1948)</td>\n",
       "      <td>-10%Privates From₹10,426₹9,383-10%Dorms From₹3...</td>\n",
       "    </tr>\n",
       "    <tr>\n",
       "      <th>27</th>\n",
       "      <td>Astor Kensington</td>\n",
       "      <td>Hostel\\n- 4.9km from city centre</td>\n",
       "      <td>8.6</td>\n",
       "      <td>Fabulous</td>\n",
       "      <td>(6574)</td>\n",
       "      <td>No Privates AvailableDorms From₹1,720</td>\n",
       "    </tr>\n",
       "    <tr>\n",
       "      <th>28</th>\n",
       "      <td>Pickwick Hall</td>\n",
       "      <td>Hostel\\n- 2.3km from city centre</td>\n",
       "      <td>7.8</td>\n",
       "      <td>Very Good</td>\n",
       "      <td>(2733)</td>\n",
       "      <td>Privates From₹7,372No Dorms Available</td>\n",
       "    </tr>\n",
       "    <tr>\n",
       "      <th>29</th>\n",
       "      <td>Onefam Waterloo</td>\n",
       "      <td>Hostel\\n- 0.7km from city centre</td>\n",
       "      <td>9.7</td>\n",
       "      <td>Superb</td>\n",
       "      <td>(40)</td>\n",
       "      <td>-8%Privates From₹10,113₹9,304-8%Dorms From₹2,2...</td>\n",
       "    </tr>\n",
       "  </tbody>\n",
       "</table>\n",
       "</div>"
      ],
      "text/plain": [
       "                                     Hostel                  Centre from city  \\\n",
       "0               Wombat's City Hostel London  Hostel\\n- 3.6km from city centre   \n",
       "1                  St Christopher's Village  Hostel\\n- 1.8km from city centre   \n",
       "2             Palmers Lodge - Swiss Cottage  Hostel\\n- 6.5km from city centre   \n",
       "3                       Onefam Notting Hill  Hostel\\n- 5.5km from city centre   \n",
       "4                      Urbany Hostel London  Hostel\\n- 5.4km from city centre   \n",
       "5                          Generator London    Hostel\\n- 3km from city centre   \n",
       "6         Safestay London Elephant & Castle  Hostel\\n- 1.7km from city centre   \n",
       "7                           Astor Hyde Park  Hostel\\n- 4.3km from city centre   \n",
       "8                          NX London Hostel  Hostel\\n- 6.1km from city centre   \n",
       "9   Safestay London Kensington Holland Park  Hostel\\n- 5.8km from city centre   \n",
       "10                                 Clink261  Hostel\\n- 3.2km from city centre   \n",
       "11             No.8 Willesden Hostel London   Hostel\\n- 10km from city centre   \n",
       "12              Smart Russell Square Hostel  Hostel\\n- 2.6km from city centre   \n",
       "13                  Queen Elizabeth Chelsea  Hostel\\n- 5.7km from city centre   \n",
       "14       Destinations Hostels @ The Gallery  Hostel\\n- 1.7km from city centre   \n",
       "15      Hostelle - women only hostel London  Hostel\\n- 5.1km from city centre   \n",
       "16                       No.8 Seven Sisters    Hostel\\n- 9km from city centre   \n",
       "17                           Phoenix Hostel  Hostel\\n- 4.2km from city centre   \n",
       "18               Smart Hyde Park Inn Hostel    Hostel\\n- 5km from city centre   \n",
       "19                        The Walrus Hostel  Hostel\\n- 0.2km from city centre   \n",
       "20             St Christopher's Hammersmith  Hostel\\n- 7.5km from city centre   \n",
       "21                 YHA London Oxford Street  Hostel\\n- 2.1km from city centre   \n",
       "22                  Prime Backpackers Angel  Hostel\\n- 3.6km from city centre   \n",
       "23                           Astor Victoria  Hostel\\n- 1.8km from city centre   \n",
       "24               Kabannas London St Pancras  Hostel\\n- 3.3km from city centre   \n",
       "25                 Barmy Badger Backpackers  Hostel\\n- 5.5km from city centre   \n",
       "26                  Saint James Backpackers  Hostel\\n- 5.5km from city centre   \n",
       "27                         Astor Kensington  Hostel\\n- 4.9km from city centre   \n",
       "28                            Pickwick Hall  Hostel\\n- 2.3km from city centre   \n",
       "29                          Onefam Waterloo  Hostel\\n- 0.7km from city centre   \n",
       "\n",
       "   Ratings    Reviews Total review  \\\n",
       "0      9.0     Superb      (15676)   \n",
       "1      8.1   Fabulous      (12750)   \n",
       "2      8.8   Fabulous      (15883)   \n",
       "3      9.6     Superb       (2469)   \n",
       "4      9.5     Superb       (1073)   \n",
       "5      7.6  Very Good       (7989)   \n",
       "6      7.2  Very Good       (5239)   \n",
       "7      8.2   Fabulous      (12274)   \n",
       "8      8.6   Fabulous       (2074)   \n",
       "9      6.9       Good       (1745)   \n",
       "10     7.9  Very Good        (477)   \n",
       "11     7.2  Very Good       (5170)   \n",
       "12     7.5  Very Good      (10173)   \n",
       "13     7.4  Very Good       (3661)   \n",
       "14     9.2     Superb        (294)   \n",
       "15     8.7   Fabulous         (97)   \n",
       "16     7.2  Very Good       (4139)   \n",
       "17     6.9       Good       (4591)   \n",
       "18     7.7  Very Good       (6787)   \n",
       "19     8.0   Fabulous       (4275)   \n",
       "20     7.6  Very Good       (4368)   \n",
       "21     9.0     Superb       (4695)   \n",
       "22     8.1   Fabulous        (854)   \n",
       "23     7.2  Very Good      (15079)   \n",
       "24     8.3   Fabulous       (2955)   \n",
       "25     9.0     Superb       (2034)   \n",
       "26     7.5  Very Good       (1948)   \n",
       "27     8.6   Fabulous       (6574)   \n",
       "28     7.8  Very Good       (2733)   \n",
       "29     9.7     Superb         (40)   \n",
       "\n",
       "                                                Price  \n",
       "0   -25%Privates From₹14,953₹11,215-25%Dorms From₹...  \n",
       "1     No Privates Available-10%Dorms From₹1,688₹1,519  \n",
       "2     No Privates Available-26%Dorms From₹3,001₹2,221  \n",
       "3                Privates From₹15,053Dorms From₹3,658  \n",
       "4                Privates From₹14,711Dorms From₹2,749  \n",
       "5                Privates From₹11,986Dorms From₹2,724  \n",
       "6                Privates From₹10,964Dorms From₹2,114  \n",
       "7               No Privates AvailableDorms From₹1,580  \n",
       "8   -25%Privates From₹6,243₹4,682-25%Dorms From₹1,...  \n",
       "9   -10%Privates From₹8,100₹7,290-10%Dorms From₹1,...  \n",
       "10               Privates From₹11,100Dorms From₹2,107  \n",
       "11                  Privates From₹2,522Dorms From₹837  \n",
       "12               Privates From₹15,649Dorms From₹1,938  \n",
       "13                Privates From₹6,068Dorms From₹1,282  \n",
       "14              No Privates AvailableDorms From₹5,002  \n",
       "15              No Privates AvailableDorms From₹3,159  \n",
       "16                No Privates AvailableDorms From₹995  \n",
       "17     No Privates Available-5%Dorms From₹1,802₹1,712  \n",
       "18              No Privates AvailableDorms From₹1,727  \n",
       "19    No Privates Available-15%Dorms From₹2,475₹2,104  \n",
       "20    No Privates Available-10%Dorms From₹1,449₹1,304  \n",
       "21              Privates From₹7,372No Dorms Available  \n",
       "22               Privates From₹10,398Dorms From₹2,779  \n",
       "23                Privates From₹7,266Dorms From₹1,580  \n",
       "24               Privates From₹18,772Dorms From₹3,249  \n",
       "25                Privates From₹8,478Dorms From₹2,527  \n",
       "26  -10%Privates From₹10,426₹9,383-10%Dorms From₹3...  \n",
       "27              No Privates AvailableDorms From₹1,720  \n",
       "28              Privates From₹7,372No Dorms Available  \n",
       "29  -8%Privates From₹10,113₹9,304-8%Dorms From₹2,2...  "
      ]
     },
     "execution_count": 89,
     "metadata": {},
     "output_type": "execute_result"
    }
   ],
   "source": [
    "# create dataframe\n",
    "data=pd.DataFrame({})\n",
    "data['Hostel']= name[3:33]\n",
    "data['Centre from city']= centre\n",
    "data['Ratings']= rating[3:33]\n",
    "data['Reviews']= review[3:33]\n",
    "data['Total review']= total_review\n",
    "data['Price']= price[3:33]\n",
    "data"
   ]
  },
  {
   "cell_type": "code",
   "execution_count": null,
   "id": "79f6e696",
   "metadata": {},
   "outputs": [],
   "source": [
    "driver.close()"
   ]
  }
 ],
 "metadata": {
  "kernelspec": {
   "display_name": "Python 3 (ipykernel)",
   "language": "python",
   "name": "python3"
  },
  "language_info": {
   "codemirror_mode": {
    "name": "ipython",
    "version": 3
   },
   "file_extension": ".py",
   "mimetype": "text/x-python",
   "name": "python",
   "nbconvert_exporter": "python",
   "pygments_lexer": "ipython3",
   "version": "3.10.9"
  }
 },
 "nbformat": 4,
 "nbformat_minor": 5
}
