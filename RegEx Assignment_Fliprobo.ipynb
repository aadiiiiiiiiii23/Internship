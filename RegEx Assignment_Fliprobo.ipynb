{
 "cells": [
  {
   "cell_type": "markdown",
   "id": "59944132",
   "metadata": {},
   "source": [
    "# NAME                - ADITYA JAIN\n",
    "\n"
   ]
  },
  {
   "cell_type": "markdown",
   "id": "9fa21c68",
   "metadata": {},
   "source": [
    "# INSTITUTE BATCH NO. - DSG0423\n"
   ]
  },
  {
   "cell_type": "markdown",
   "id": "6d60e2c3",
   "metadata": {},
   "source": [
    "# PROJECT BATCH NO.   - DS2310\n"
   ]
  },
  {
   "cell_type": "markdown",
   "id": "db31440f",
   "metadata": {},
   "source": [
    "# ASSIGNMENT          - REGULAR EXPRESSION"
   ]
  },
  {
   "cell_type": "markdown",
   "id": "623ba472",
   "metadata": {},
   "source": [
    "**Question 1-** Write a Python program to replace all occurrences of a space, comma, or dot with a colon.\n",
    "\n",
    "Sample Text- 'Python Exercises, PHP exercises.'\n",
    "\n",
    "Expected Output: Python:Exercises::PHP:exercises:\n"
   ]
  },
  {
   "cell_type": "code",
   "execution_count": 1,
   "id": "022ea7c0",
   "metadata": {},
   "outputs": [
    {
     "name": "stdout",
     "output_type": "stream",
     "text": [
      "Python:Exercises::PHP:exercises:\n"
     ]
    }
   ],
   "source": [
    "import re # import the regular expression library (re)\n",
    "\n",
    "sample_text = \"Python Exercises, PHP exercises.\" #Define the Text\n",
    "\n",
    "pattern = r\"[ ,.]\" #Define a re pattern\n",
    "\n",
    "x = re.sub(pattern,\":\",sample_text)\n",
    "print(x) #result"
   ]
  },
  {
   "cell_type": "markdown",
   "id": "a502dc17",
   "metadata": {},
   "source": [
    "**Question 2-**  Create a dataframe using the dictionary below and remove everything (commas (,), !, XXXX, ;, etc.) from the columns except words.\n",
    "\n",
    "Dictionary- {'SUMMARY' : ['hello, world!', 'XXXXX test', '123four, five:; six...']}\n",
    "\n",
    "Expected output-\n",
    "\n",
    "0      hello world\n",
    "\n",
    "1             test\n",
    "\n",
    "2    four five six\n"
   ]
  },
  {
   "cell_type": "code",
   "execution_count": 2,
   "id": "3657b047",
   "metadata": {},
   "outputs": [
    {
     "name": "stdout",
     "output_type": "stream",
     "text": [
      "            SUMMARY\n",
      "0        helloworld\n",
      "1        XXXXX test\n",
      "2  123four five six\n"
     ]
    }
   ],
   "source": [
    "import pandas as pd\n",
    "import re\n",
    "Dictionary = {'SUMMARY':['hello,world!','XXXXX test','123four, five:; six...']}\n",
    "df = pd.DataFrame(Dictionary)\n",
    "df['SUMMARY']= df['SUMMARY'].str.replace(r'[^\\w\\s]','', regex=True)\n",
    "print(df)\n",
    "\n"
   ]
  },
  {
   "cell_type": "markdown",
   "id": "d179e2c6",
   "metadata": {},
   "source": [
    "**Question 3-** Create a function in python to find all words that are at least 4 characters long in a string. The use of the\n",
    "re.compile() method is mandatory."
   ]
  },
  {
   "cell_type": "code",
   "execution_count": 3,
   "id": "18778b05",
   "metadata": {},
   "outputs": [
    {
     "name": "stdout",
     "output_type": "stream",
     "text": [
      "Rohit\n",
      "Sharma\n",
      "best\n",
      "player\n",
      "Indian\n",
      "Cricket\n",
      "Team\n",
      "well\n",
      "played\n",
      "crucial\n",
      "role\n",
      "world\n",
      "matches\n",
      "India\n"
     ]
    }
   ],
   "source": [
    "import re # import the regular expression library\n",
    "target_string = \"Rohit Sharma is the best player of Indian Cricket Team as well as he played a crucial role in a world cup matches for India.\"\n",
    "\n",
    "pattern = re.compile(r'\\b\\w{4,}\\b') # define a pattern for find all the words that are atleast 4 characters long.\n",
    "\n",
    "for result in pattern.findall(target_string):\n",
    "    print(result) # print Output \n",
    "\n",
    "                     "
   ]
  },
  {
   "cell_type": "markdown",
   "id": "180c764d",
   "metadata": {},
   "source": [
    "**Question-4** Create a function in python to find all three, four, and five character words in a string. The use of the re.compile() method is mandatory."
   ]
  },
  {
   "cell_type": "code",
   "execution_count": 4,
   "id": "5abf2a2b",
   "metadata": {},
   "outputs": [
    {
     "name": "stdout",
     "output_type": "stream",
     "text": [
      "Data\n",
      "the\n",
      "study\n",
      "data\n",
      "for\n",
      "maths\n",
      "and\n"
     ]
    }
   ],
   "source": [
    "import re # import necessary library\n",
    "target_string = \"Data Science is the study of data to extract meaningful insights for business. it is a multidiscliplinary apporach combines principal of maths, and so on....\"\n",
    "\n",
    "pattern = re.compile(r'\\b\\w{3,5}\\b') #this pattern to match all words with 3,4,5 characters.\n",
    "\n",
    "for result in pattern.findall(target_string): #iterate through the words in the target string that match the defined pattern.\n",
    "    print(result)"
   ]
  },
  {
   "cell_type": "markdown",
   "id": "37bafd3c",
   "metadata": {},
   "source": [
    "**Question 5**-- Create a function in Python to remove the parenthesis in a list of strings. The use of the re.compile() method is mandatory.\n",
    "\n",
    "Sample Text: [\"example (.com)\", \"hr@fliprobo (.com)\", \"github (.com)\", \"Hello (Data Science World)\", \"Data (Scientist)\"]\n"
   ]
  },
  {
   "cell_type": "code",
   "execution_count": 5,
   "id": "fd4e3e5a",
   "metadata": {},
   "outputs": [
    {
     "name": "stdout",
     "output_type": "stream",
     "text": [
      "example.com\n",
      "hr@fliprobo.com\n",
      "github.com\n",
      "HelloData Science World\n",
      "DataScientist\n"
     ]
    }
   ],
   "source": [
    "target_string = [\"example (.com)\", \"hr@fliprobo (.com)\", \"github (.com)\", \"Hello (Data Science World)\", \"Data (Scientist)\"]\n",
    "\n",
    "pattern = re.compile(r'\\s*\\(([^)]*)\\)') # this pattern are used to match text inside the parentheses.\n",
    "for data in target_string: \n",
    "    result = re.sub(pattern,r'\\1',data) # use re.sub() to substitute the matched pattern with the text inside the parentheses.\n",
    "    print(result)"
   ]
  },
  {
   "cell_type": "markdown",
   "id": "807e9de3",
   "metadata": {},
   "source": [
    "**Question 6-** Write a python program to remove the parenthesis area from the text stored in the text file using Regular Expression.\n",
    "\n",
    "Sample Text: [\"example (.com)\", \"hr@fliprobo (.com)\", \"github (.com)\", \"Hello (Data Science World)\", \"Data (Scientist)\"]\n",
    "\n",
    "Expected Output: [\"example\", \"hr@fliprobo\", \"github\", \"Hello\", \"Data\"]\n"
   ]
  },
  {
   "cell_type": "code",
   "execution_count": 6,
   "id": "6d3c59b2",
   "metadata": {},
   "outputs": [
    {
     "name": "stdout",
     "output_type": "stream",
     "text": [
      "example \n",
      "hr@fliprobo \n",
      "github \n",
      "Hello \n",
      "Data \n"
     ]
    }
   ],
   "source": [
    "import re # import necessary library\n",
    "target_string = [\"example (.com)\", \"hr@fliprobo (.com)\", \"github (.com)\", \"Hello (Data Science World)\", \"Data (Scientist)\"]\n",
    "\n",
    "pattern = re.compile(r'\\([^)]*\\)') # pattern to match and remove text inside the parentheses\n",
    "for data in target_string:\n",
    "    \n",
    "    result = re.sub(pattern,'',data) # use re.sub() to substitute the match pattern text inside the parentheses with an empty string\n",
    "    print(result)\n"
   ]
  },
  {
   "cell_type": "markdown",
   "id": "877fbd03",
   "metadata": {},
   "source": [
    "**Question 7-** Write a regular expression in Python to split a string into uppercase letters.\n",
    "\n",
    "Sample text: \"ImportanceOfRegularExpressionsInPython\"\n",
    "\n",
    "Expected Output: [‘Importance’, ‘Of’, ‘Regular’, ‘Expression’, ‘In’, ‘Python’]\n"
   ]
  },
  {
   "cell_type": "code",
   "execution_count": 7,
   "id": "ef0ecc8e",
   "metadata": {},
   "outputs": [
    {
     "name": "stdout",
     "output_type": "stream",
     "text": [
      "['Importance', 'Of', 'Regular', 'Expression', 'In', 'Python']\n"
     ]
    }
   ],
   "source": [
    "import re # import necessary library\n",
    "target_string = \"ImportanceOfRegularExpressionInPython\"\n",
    "pattern = r'[A-Z][a-z]*' # pattern to match camelcase words\n",
    "\n",
    "result = re.findall(pattern,target_string) # re.findall() to find all occurrences of the pattern in the target string\n",
    "print(result)\n",
    "    \n",
    "    "
   ]
  },
  {
   "cell_type": "markdown",
   "id": "d048ab47",
   "metadata": {},
   "source": [
    "**Question 8-** Create a function in python to insert spaces between words starting with numbers.\n",
    "\n",
    "Sample Text: \"RegularExpression1IsAn2ImportantTopic3InPython\"\n",
    "\n",
    "Expected Output: RegularExpression 1IsAn 2ImportantTopic 3InPython\n"
   ]
  },
  {
   "cell_type": "code",
   "execution_count": 8,
   "id": "42965ff2",
   "metadata": {},
   "outputs": [
    {
     "name": "stdout",
     "output_type": "stream",
     "text": [
      "RegularExpression 1IsAn 2ImportantTopic 3InPython\n"
     ]
    }
   ],
   "source": [
    "import re # import necessary library\n",
    "target_string = \"RegularExpression1IsAn2ImportantTopic3InPython\"\n",
    "result = re.sub(r'(\\d+)',r' \\1',target_string) #use re.sub() to add a space before each numeric digit in the target_string.\n",
    "print(result)"
   ]
  },
  {
   "cell_type": "markdown",
   "id": "b5ace026",
   "metadata": {},
   "source": [
    "**Question 9**-Create a function in python to insert spaces between words starting with capital letters or with numbers.\n",
    "\n",
    "Sample Text: “RegularExpression1IsAn2ImportantTopic3InPython\"\n",
    "\n",
    "Expected Output:  RegularExpression 1 IsAn 2 ImportantTopic 3 InPython\n"
   ]
  },
  {
   "cell_type": "code",
   "execution_count": 9,
   "id": "9ecb1929",
   "metadata": {},
   "outputs": [
    {
     "name": "stdout",
     "output_type": "stream",
     "text": [
      "RegularExpression 1 IsAn 2 ImportantTopic 3 InPython\n"
     ]
    }
   ],
   "source": [
    "import re\n",
    "target_string = \"RegularExpression1IsAn2ImportantTopic3InPython\"\n",
    "result = re.sub(r'(\\d+)',r' \\1 ',target_string) # use re.sub() to add a space before and a after each numeric digit in the target_string.\n",
    "print(result)"
   ]
  },
  {
   "cell_type": "markdown",
   "id": "606c8d7f",
   "metadata": {},
   "source": [
    "**Question 10**-read the data and create a dataframe. After creating the dataframe extract the first 6 letters of each country and store in the dataframe under a new column called first_five_letters."
   ]
  },
  {
   "cell_type": "code",
   "execution_count": 10,
   "id": "54c3d987",
   "metadata": {},
   "outputs": [
    {
     "data": {
      "text/html": [
       "<div>\n",
       "<style scoped>\n",
       "    .dataframe tbody tr th:only-of-type {\n",
       "        vertical-align: middle;\n",
       "    }\n",
       "\n",
       "    .dataframe tbody tr th {\n",
       "        vertical-align: top;\n",
       "    }\n",
       "\n",
       "    .dataframe thead th {\n",
       "        text-align: right;\n",
       "    }\n",
       "</style>\n",
       "<table border=\"1\" class=\"dataframe\">\n",
       "  <thead>\n",
       "    <tr style=\"text-align: right;\">\n",
       "      <th></th>\n",
       "      <th>Country</th>\n",
       "      <th>Region</th>\n",
       "      <th>Happiness Rank</th>\n",
       "      <th>Happiness Score</th>\n",
       "      <th>Standard Error</th>\n",
       "      <th>Economy (GDP per Capita)</th>\n",
       "      <th>Family</th>\n",
       "      <th>Health (Life Expectancy)</th>\n",
       "      <th>Freedom</th>\n",
       "      <th>Trust (Government Corruption)</th>\n",
       "      <th>Generosity</th>\n",
       "      <th>Dystopia Residual</th>\n",
       "    </tr>\n",
       "  </thead>\n",
       "  <tbody>\n",
       "    <tr>\n",
       "      <th>0</th>\n",
       "      <td>Switzerland</td>\n",
       "      <td>Western Europe</td>\n",
       "      <td>1</td>\n",
       "      <td>7.587</td>\n",
       "      <td>0.03411</td>\n",
       "      <td>1.39651</td>\n",
       "      <td>1.34951</td>\n",
       "      <td>0.94143</td>\n",
       "      <td>0.66557</td>\n",
       "      <td>0.41978</td>\n",
       "      <td>0.29678</td>\n",
       "      <td>2.51738</td>\n",
       "    </tr>\n",
       "    <tr>\n",
       "      <th>1</th>\n",
       "      <td>Iceland</td>\n",
       "      <td>Western Europe</td>\n",
       "      <td>2</td>\n",
       "      <td>7.561</td>\n",
       "      <td>0.04884</td>\n",
       "      <td>1.30232</td>\n",
       "      <td>1.40223</td>\n",
       "      <td>0.94784</td>\n",
       "      <td>0.62877</td>\n",
       "      <td>0.14145</td>\n",
       "      <td>0.43630</td>\n",
       "      <td>2.70201</td>\n",
       "    </tr>\n",
       "    <tr>\n",
       "      <th>2</th>\n",
       "      <td>Denmark</td>\n",
       "      <td>Western Europe</td>\n",
       "      <td>3</td>\n",
       "      <td>7.527</td>\n",
       "      <td>0.03328</td>\n",
       "      <td>1.32548</td>\n",
       "      <td>1.36058</td>\n",
       "      <td>0.87464</td>\n",
       "      <td>0.64938</td>\n",
       "      <td>0.48357</td>\n",
       "      <td>0.34139</td>\n",
       "      <td>2.49204</td>\n",
       "    </tr>\n",
       "    <tr>\n",
       "      <th>3</th>\n",
       "      <td>Norway</td>\n",
       "      <td>Western Europe</td>\n",
       "      <td>4</td>\n",
       "      <td>7.522</td>\n",
       "      <td>0.03880</td>\n",
       "      <td>1.45900</td>\n",
       "      <td>1.33095</td>\n",
       "      <td>0.88521</td>\n",
       "      <td>0.66973</td>\n",
       "      <td>0.36503</td>\n",
       "      <td>0.34699</td>\n",
       "      <td>2.46531</td>\n",
       "    </tr>\n",
       "    <tr>\n",
       "      <th>4</th>\n",
       "      <td>Canada</td>\n",
       "      <td>North America</td>\n",
       "      <td>5</td>\n",
       "      <td>7.427</td>\n",
       "      <td>0.03553</td>\n",
       "      <td>1.32629</td>\n",
       "      <td>1.32261</td>\n",
       "      <td>0.90563</td>\n",
       "      <td>0.63297</td>\n",
       "      <td>0.32957</td>\n",
       "      <td>0.45811</td>\n",
       "      <td>2.45176</td>\n",
       "    </tr>\n",
       "  </tbody>\n",
       "</table>\n",
       "</div>"
      ],
      "text/plain": [
       "       Country          Region  Happiness Rank  Happiness Score  \\\n",
       "0  Switzerland  Western Europe               1            7.587   \n",
       "1      Iceland  Western Europe               2            7.561   \n",
       "2      Denmark  Western Europe               3            7.527   \n",
       "3       Norway  Western Europe               4            7.522   \n",
       "4       Canada   North America               5            7.427   \n",
       "\n",
       "   Standard Error  Economy (GDP per Capita)   Family  \\\n",
       "0         0.03411                   1.39651  1.34951   \n",
       "1         0.04884                   1.30232  1.40223   \n",
       "2         0.03328                   1.32548  1.36058   \n",
       "3         0.03880                   1.45900  1.33095   \n",
       "4         0.03553                   1.32629  1.32261   \n",
       "\n",
       "   Health (Life Expectancy)  Freedom  Trust (Government Corruption)  \\\n",
       "0                   0.94143  0.66557                        0.41978   \n",
       "1                   0.94784  0.62877                        0.14145   \n",
       "2                   0.87464  0.64938                        0.48357   \n",
       "3                   0.88521  0.66973                        0.36503   \n",
       "4                   0.90563  0.63297                        0.32957   \n",
       "\n",
       "   Generosity  Dystopia Residual  \n",
       "0     0.29678            2.51738  \n",
       "1     0.43630            2.70201  \n",
       "2     0.34139            2.49204  \n",
       "3     0.34699            2.46531  \n",
       "4     0.45811            2.45176  "
      ]
     },
     "execution_count": 10,
     "metadata": {},
     "output_type": "execute_result"
    }
   ],
   "source": [
    "import pandas as pd\n",
    "import re\n",
    "data = pd.read_csv(\"https://raw.githubusercontent.com/dsrscientist/DSData/master/happiness_score_dataset.csv\") # read the data\n",
    "data.head()"
   ]
  },
  {
   "cell_type": "code",
   "execution_count": 11,
   "id": "91e851d2",
   "metadata": {},
   "outputs": [],
   "source": [
    "data['first_five_letters']=data['Country'].str.extract(r'(^.{1,6})')"
   ]
  },
  {
   "cell_type": "code",
   "execution_count": 12,
   "id": "05c04b57",
   "metadata": {},
   "outputs": [
    {
     "name": "stdout",
     "output_type": "stream",
     "text": [
      "       Country first_five_letters\n",
      "0  Switzerland             Switze\n",
      "1      Iceland             Icelan\n",
      "2      Denmark             Denmar\n",
      "3       Norway             Norway\n",
      "4       Canada             Canada\n"
     ]
    }
   ],
   "source": [
    "print(data[['Country','first_five_letters']].head())"
   ]
  },
  {
   "cell_type": "code",
   "execution_count": 13,
   "id": "e4eb029f",
   "metadata": {},
   "outputs": [
    {
     "name": "stdout",
     "output_type": "stream",
     "text": [
      "         Country first_five_letters\n",
      "0    Switzerland             Switze\n",
      "1        Iceland             Icelan\n",
      "2        Denmark             Denmar\n",
      "3         Norway             Norway\n",
      "4         Canada             Canada\n",
      "..           ...                ...\n",
      "153       Rwanda             Rwanda\n",
      "154        Benin              Benin\n",
      "155        Syria              Syria\n",
      "156      Burundi             Burund\n",
      "157         Togo               Togo\n",
      "\n",
      "[158 rows x 2 columns]\n"
     ]
    }
   ],
   "source": [
    "print(data[['Country','first_five_letters']])"
   ]
  },
  {
   "cell_type": "code",
   "execution_count": 14,
   "id": "3322b3e8",
   "metadata": {},
   "outputs": [
    {
     "name": "stdout",
     "output_type": "stream",
     "text": [
      "     Country first_five_letters\n",
      "153   Rwanda             Rwanda\n",
      "154    Benin              Benin\n",
      "155    Syria              Syria\n",
      "156  Burundi             Burund\n",
      "157     Togo               Togo\n"
     ]
    }
   ],
   "source": [
    "print(data[['Country','first_five_letters']].tail())"
   ]
  },
  {
   "cell_type": "markdown",
   "id": "99561f96",
   "metadata": {},
   "source": [
    "**Question 11**-Write a Python program to match a string that contains only upper and lowercase letters, numbers, and underscores."
   ]
  },
  {
   "cell_type": "code",
   "execution_count": 15,
   "id": "fe75af9e",
   "metadata": {},
   "outputs": [
    {
     "name": "stdout",
     "output_type": "stream",
     "text": [
      "<re.Match object; span=(0, 14), match='RohitSharma_45'>\n",
      "<re.Match object; span=(0, 5), match='score'>\n",
      "<re.Match object; span=(0, 12), match='45_Centuries'>\n",
      "None\n",
      "<re.Match object; span=(0, 6), match='Hitman'>\n",
      "<re.Match object; span=(0, 20), match='8_worldcup_Centuries'>\n",
      "None\n"
     ]
    }
   ],
   "source": [
    "import re # import necessary library\n",
    "target_string = [\"RohitSharma_45\",\"score\",\"45_Centuries\",\"tymd$%\",\"Hitman\",\"8_worldcup_Centuries\",\"rj@#\"]\n",
    "pattern= r'^[a-zA-Z0-9_]+$' # this pattern use to find a word that contains only upper lowercase numbers and underscore.\n",
    "for text in target_string:\n",
    "    result = re.match(pattern, text)\n",
    "    print(result)\n"
   ]
  },
  {
   "cell_type": "markdown",
   "id": "c24083e9",
   "metadata": {},
   "source": [
    "**Question 12**-- Write a Python program where a string will start with a specific number. "
   ]
  },
  {
   "cell_type": "code",
   "execution_count": 16,
   "id": "85ad1972",
   "metadata": {},
   "outputs": [
    {
     "name": "stdout",
     "output_type": "stream",
     "text": [
      "<re.Match object; span=(0, 6), match='456893'>\n"
     ]
    }
   ],
   "source": [
    "import re # import library\n",
    "target_string = \"456893RohitSharma\" #define string\n",
    "result = re.match(r'^\\d+',target_string) # re.match() use for match some string according to pattern and in this pattern we will find a number.\n",
    "print(result)"
   ]
  },
  {
   "cell_type": "markdown",
   "id": "f8fdfbf3",
   "metadata": {},
   "source": [
    "**Question 13**- Write a Python program to remove leading zeros from an IP address"
   ]
  },
  {
   "cell_type": "code",
   "execution_count": 17,
   "id": "b0a5e2a1",
   "metadata": {},
   "outputs": [
    {
     "name": "stdout",
     "output_type": "stream",
     "text": [
      "193.20.3.7\n"
     ]
    }
   ],
   "source": [
    "import re # import necessary library\n",
    "ip_address = \"193.020.003.0007\"\n",
    "pattern = r'\\b0+(\\d+)\\b' # pattern to match remove leading zeros from ip address\n",
    "result = re.sub(pattern,r'\\1',ip_address) # refer to captured digits\n",
    "print(result)"
   ]
  },
  {
   "cell_type": "markdown",
   "id": "9d927c1c",
   "metadata": {},
   "source": [
    "**Question 14**- Write a regular expression in python to match a date string in the form of Month name followed by day number and year stored in a text file.\n",
    "\n",
    "Sample text :  ' On August 15th 1947 that India was declared independent from British colonialism, and the reins of control were handed over to the leaders of the Country’.\n",
    "    \n",
    "Expected Output- August 15th 1947\n",
    "\n",
    "Note- Store given sample text in the text file and then extract the date string asked format.\n"
   ]
  },
  {
   "cell_type": "code",
   "execution_count": 18,
   "id": "5626dded",
   "metadata": {},
   "outputs": [
    {
     "name": "stdout",
     "output_type": "stream",
     "text": [
      "<re.Match object; span=(3, 19), match='August 15th 1947'>\n"
     ]
    }
   ],
   "source": [
    "import re # import necessary library \n",
    "\n",
    "target_string ='On August 15th 1947 that India was declared independent from British colonialism, and the reins of control were handed over to the leaders of the Country.'\n",
    "\n",
    "pattern = r'\\b\\w+ \\d{1,2}(?:st|nd|rd|th)? \\d{4}\\b' # pattern use for extract a date from a target_string\n",
    "\n",
    "result = re.search(pattern, target_string)\n",
    "print(result) #output"
   ]
  },
  {
   "cell_type": "markdown",
   "id": "02b01c88",
   "metadata": {},
   "source": [
    "**Question 15**-Write a Python program to search some literals strings in a string.\n",
    "\n",
    "Sample text : 'The quick brown fox jumps over the lazy dog.'\n",
    "\n",
    "Searched words : 'fox', 'dog', 'horse'\n"
   ]
  },
  {
   "cell_type": "code",
   "execution_count": 19,
   "id": "80dbcc1a",
   "metadata": {},
   "outputs": [
    {
     "name": "stdout",
     "output_type": "stream",
     "text": [
      "fox\n"
     ]
    }
   ],
   "source": [
    "import re\n",
    "target_string = 'The quick brown fox jumps over the lazy dog'\n",
    "pattern = r'\\b(?:fox|dog|horse)\\b'\n",
    "result = re.search(pattern,target_string)\n",
    "print(result.group()) # if you will use re.search so only first word will be written on output"
   ]
  },
  {
   "cell_type": "markdown",
   "id": "bb6e721a",
   "metadata": {},
   "source": [
    "**Question 16**-Write a Python program to search a literals string in a string and also find the location within the original string where the pattern occurs\n",
    "\n",
    "Sample text : 'The quick brown fox jumps over the lazy dog.'\n",
    "\n",
    "Searched words : 'fox'\n"
   ]
  },
  {
   "cell_type": "code",
   "execution_count": 20,
   "id": "64ab8a24",
   "metadata": {},
   "outputs": [
    {
     "name": "stdout",
     "output_type": "stream",
     "text": [
      "fox\n"
     ]
    }
   ],
   "source": [
    "import re\n",
    "target_string='The quick brown fox jumps over the lazy dog.'\n",
    "result = re.search(r'\\bfox\\b',target_string) # use re.search() to find the word 'fox' as a whole word in a target_string.\n",
    "print(result.group())"
   ]
  },
  {
   "cell_type": "markdown",
   "id": "30016907",
   "metadata": {},
   "source": [
    "**Question 17**-Write a Python program to find the substrings within a string.\n",
    "\n",
    "Sample text : 'Python exercises, PHP exercises, C# exercises'\n",
    "\n",
    "Pattern : 'exercises'.\n"
   ]
  },
  {
   "cell_type": "code",
   "execution_count": 21,
   "id": "00c9531b",
   "metadata": {},
   "outputs": [
    {
     "name": "stdout",
     "output_type": "stream",
     "text": [
      "['exercises', 'exercises', 'exercises']\n"
     ]
    }
   ],
   "source": [
    "import re\n",
    "target_string = \"Python exercises, PHP exercises, C# exercises\"\n",
    "pattern = 'exercises' # define the pattern to search for in the target_string\n",
    "result = re.findall(pattern,target_string) # use re.findall()  to find all the occurence of the pattern in the target_string.\n",
    "print(result)"
   ]
  },
  {
   "cell_type": "markdown",
   "id": "5ce30f18",
   "metadata": {},
   "source": [
    "**Question 18**- Write a Python program to find the occurrence and position of the substrings within a string."
   ]
  },
  {
   "cell_type": "code",
   "execution_count": 22,
   "id": "95824e82",
   "metadata": {},
   "outputs": [
    {
     "name": "stdout",
     "output_type": "stream",
     "text": [
      "<re.Match object; span=(6, 12), match='Sharma'>\n",
      "6\n",
      "12\n",
      "<re.Match object; span=(22, 28), match='Sharma'>\n",
      "22\n",
      "28\n",
      "<re.Match object; span=(38, 44), match='Sharma'>\n",
      "38\n",
      "44\n"
     ]
    }
   ],
   "source": [
    "import re\n",
    "target_string = \"Rohit Sharma, Anushka Sharma, Kapil#@ Sharma\"\n",
    "pattern = 'Sharma'\n",
    "for text in re.finditer(pattern,target_string):\n",
    "    \n",
    "    \n",
    "    occurrence_start = text.start()\n",
    "    occurrence_end = text.end()\n",
    "    print(text)\n",
    "    print(occurrence_start)\n",
    "    print(occurrence_end)\n",
    "    "
   ]
  },
  {
   "cell_type": "markdown",
   "id": "29cf10ac",
   "metadata": {},
   "source": [
    "**Question 19**-Write a Python program to convert a date of yyyy-mm-dd format to dd-mm-yyyy format."
   ]
  },
  {
   "cell_type": "code",
   "execution_count": 23,
   "id": "5ea9cb6f",
   "metadata": {},
   "outputs": [
    {
     "name": "stdout",
     "output_type": "stream",
     "text": [
      " Current Date Format 2024-01-23\n",
      "Converted Date Format 23-01-2024\n"
     ]
    }
   ],
   "source": [
    "import re\n",
    "def change_format(date):\n",
    "    return re.sub(r'(\\d{4})-(\\d{1,2})-(\\d{1,2})','\\\\3-\\\\2-\\\\1',date)\n",
    "current_date = \"2024-01-23\"\n",
    "print(\" Current Date Format\",current_date)\n",
    "print(\"Converted Date Format\",change_format(current_date))\n",
    "    \n"
   ]
  },
  {
   "cell_type": "markdown",
   "id": "bb672945",
   "metadata": {},
   "source": [
    "**Question 20**-Create a function in python to find all decimal numbers with a precision of 1 or 2 in a string. The use of the re.compile() method is mandatory.\n",
    "\n",
    "Sample Text: \"01.12 0132.123 2.31875 145.8 3.01 27.25 0.25\"\n",
    "\n",
    "Expected Output: ['01.12', '145.8', '3.01', '27.25', '0.25']\n"
   ]
  },
  {
   "cell_type": "code",
   "execution_count": 24,
   "id": "93b8b5a1",
   "metadata": {},
   "outputs": [
    {
     "name": "stdout",
     "output_type": "stream",
     "text": [
      "['01.12', '145.8', '3.01', '27.25', '0.25']\n"
     ]
    }
   ],
   "source": [
    "target_string = \"01.12 0132.123 2.31875 145.8 3.01 27.25 0.25\"\n",
    "def decimal(data):\n",
    "    pattern = re.compile(r'\\b\\d+\\.\\d{1,2}\\b') # to match decimal numbers with one or two decimal places\n",
    "    x = pattern.findall(data) # use re.findall()  to find all the occurence of the pattern in the target_string.\n",
    "    return x\n",
    "result = decimal(target_string)\n",
    "print(result) # output"
   ]
  },
  {
   "cell_type": "markdown",
   "id": "c4ed2606",
   "metadata": {},
   "source": [
    "**Question 21**-- Write a Python program to separate and print the numbers and their position of a given string."
   ]
  },
  {
   "cell_type": "code",
   "execution_count": 25,
   "id": "13a5eb32",
   "metadata": {},
   "outputs": [
    {
     "name": "stdout",
     "output_type": "stream",
     "text": [
      "45\n",
      "Index Number : 60\n"
     ]
    }
   ],
   "source": [
    "target_string = \"Rohit Sharma is a indian cricketer and his jersey number is 45 and rohit hit a seven worldcup century\"\n",
    "for result in re.finditer(\"\\d+\",target_string): # use finditer() to find all occuerence of one or more digit in a target_string\n",
    "    print(result.group(0))\n",
    "    print('Index Number :',result.start()) # show index number\n",
    "\n"
   ]
  },
  {
   "cell_type": "markdown",
   "id": "c78b59b3",
   "metadata": {},
   "source": [
    "**Question 22** -Write a regular expression in python program to extract maximum/largest numeric value from a string.\n",
    "\n",
    "Sample Text:  'My marks in each semester are: 947, 896, 926, 524, 734, 950, 642'\n",
    "\n",
    "Expected Output: 950\n"
   ]
  },
  {
   "cell_type": "code",
   "execution_count": 26,
   "id": "c32233cf",
   "metadata": {},
   "outputs": [
    {
     "name": "stdout",
     "output_type": "stream",
     "text": [
      "Maximum Number : 950\n"
     ]
    }
   ],
   "source": [
    "import re\n",
    "target_string = \"My marks in each semester are: 947, 896, 926, 524, 734, 950, 642\"\n",
    "pattern = r'\\d+'\n",
    "x= re.findall(pattern,target_string) #re pattern to match one or more digits\n",
    "result = max(map(int,x)) # convent x into int and find max number\n",
    "print('Maximum Number :', result) # output\n"
   ]
  },
  {
   "cell_type": "markdown",
   "id": "667d0b67",
   "metadata": {},
   "source": [
    "**Question 23**-Create a function in python to insert spaces between words starting with capital letters.\n",
    "\n",
    "Sample Text: “RegularExpressionIsAnImportantTopicInPython\"\n",
    "    \n",
    "Expected Output: Regular Expression Is An Important Topic In Python\n"
   ]
  },
  {
   "cell_type": "code",
   "execution_count": 27,
   "id": "0cd58005",
   "metadata": {},
   "outputs": [
    {
     "name": "stdout",
     "output_type": "stream",
     "text": [
      "Regular Expression Is An Important Topic In Python\n"
     ]
    }
   ],
   "source": [
    "target_string = \"RegularExpressionIsAnImportantTopicInPython\"\n",
    "result = re.sub(r'(\\w)([A-Z])',r'\\1 \\2',target_string) # pattern use for insert spaces btw words starting with capital letters\n",
    "print(result) #output"
   ]
  },
  {
   "cell_type": "markdown",
   "id": "011d3dc2",
   "metadata": {},
   "source": [
    "**Question 24**- Python regex to find sequences of one upper case letter followed by lower case letters"
   ]
  },
  {
   "cell_type": "code",
   "execution_count": 28,
   "id": "5851076c",
   "metadata": {},
   "outputs": [
    {
     "name": "stdout",
     "output_type": "stream",
     "text": [
      "['Rohit', 'Sharma', 'Indian', 'Cricketer', 'He', 'Hit', 'Century', 'In', 'Carrier']\n"
     ]
    }
   ],
   "source": [
    "target_string = \"Rohit Sharma is a Indian Cricketer and He Hit 45 Century In his Carrier.\"\n",
    "pattern = r'[A-Z][a-z]+'\n",
    "result = re.findall(pattern, target_string)\n",
    "print(result)\n"
   ]
  },
  {
   "cell_type": "markdown",
   "id": "a640dec8",
   "metadata": {},
   "source": [
    "**Question 25**- Write a Python program to remove continuous duplicate words from Sentence using Regular Expression.\n",
    "\n",
    "Sample Text: \"Hello hello world world\"\n",
    "\n",
    "Expected Output: Hello hello world\n"
   ]
  },
  {
   "cell_type": "code",
   "execution_count": 29,
   "id": "c1b86392",
   "metadata": {},
   "outputs": [
    {
     "name": "stdout",
     "output_type": "stream",
     "text": [
      "Hello hello world\n"
     ]
    }
   ],
   "source": [
    "target_string = \"Hello hello world world\"\n",
    "result = re.sub(r'\\b(\\w+)( \\1\\b)+',r'\\1',target_string)\n",
    "print(result)"
   ]
  },
  {
   "cell_type": "markdown",
   "id": "dade8cb0",
   "metadata": {},
   "source": [
    "**Question 26**-Write a python program using RegEx to accept string ending with alphanumeric character."
   ]
  },
  {
   "cell_type": "code",
   "execution_count": 30,
   "id": "33e586a9",
   "metadata": {},
   "outputs": [
    {
     "name": "stdout",
     "output_type": "stream",
     "text": [
      "Rohit Sharam is a indian_cricker01 and his jerseyno45\n"
     ]
    }
   ],
   "source": [
    "target_string = \"Rohit Sharam is a indian_cricker01 and his jerseyno45\"\n",
    "pattern = r'^.*[a-zA-Z0-9]$'\n",
    "result = re.match(pattern,target_string)\n",
    "print(result.group())"
   ]
  },
  {
   "cell_type": "markdown",
   "id": "0b3c1449",
   "metadata": {},
   "source": [
    "**Question 27**-Write a python program using RegEx to extract the hashtags.\n",
    "\n",
    "Sample Text:  \"\"\"RT @kapil_kausik: #Doltiwal I mean #xyzabc is \"hurt\" by #Demonetization as the same has rendered USELESS <ed><U+00A0><U+00BD><ed><U+00B1><U+0089> \"acquired funds\" No wo\"\"\"\n",
    "    \n",
    "Expected Output: ['#Doltiwal', '#xyzabc', '#Demonetization']\n"
   ]
  },
  {
   "cell_type": "code",
   "execution_count": 31,
   "id": "e618fc19",
   "metadata": {},
   "outputs": [
    {
     "name": "stdout",
     "output_type": "stream",
     "text": [
      "['#Doltiwal', '#xyzabc', '#Demonetization']\n"
     ]
    }
   ],
   "source": [
    "target_string =  \"\"\"RT @kapil_kausik: #Doltiwal I mean #xyzabc is \"hurt\" by #Demonetization as the same has rendered USELESS <ed><U+00A0><U+00BD><ed><U+00B1><U+0089> \"acquired funds\" No wo\"\"\"\n",
    "pattern = r'#\\w+'\n",
    "result = re.findall(pattern, target_string)\n",
    "print(result)"
   ]
  },
  {
   "cell_type": "markdown",
   "id": "8ecaccb6",
   "metadata": {},
   "source": [
    "**Question 28**- Write a python program using RegEx to remove <U+..> like symbols\n",
    "\n",
    "Check the below sample text, there are strange symbols something of the sort <U+..> all over the place. You need to come up with a general Regex expression that will cover all such symbols.\n"
   ]
  },
  {
   "cell_type": "code",
   "execution_count": 32,
   "id": "231cf43c",
   "metadata": {},
   "outputs": [
    {
     "name": "stdout",
     "output_type": "stream",
     "text": [
      "@Jags123456 Bharat band on 28??<ed><ed>Those who  are protesting #demonetization  are all different party leaders\n"
     ]
    }
   ],
   "source": [
    "target_string = \"@Jags123456 Bharat band on 28??<ed><U+00A0><U+00BD><ed><U+00B8><U+0082>Those who  are protesting #demonetization  are all different party leaders\"\n",
    "\n",
    "pattern = r'<U\\+[A-Fa-f0-9]{4}>'\n",
    "\n",
    "result = re.sub(pattern,'',target_string)\n",
    "print(result)"
   ]
  },
  {
   "cell_type": "markdown",
   "id": "2df10f23",
   "metadata": {},
   "source": [
    "**Question 29**-Write a python program to extract dates from the text stored in the text file.\n",
    "\n",
    "Sample Text: Ron was born on 12-09-1992 and he was admitted to school 15-12-1999.\n",
    "    \n",
    "Note- Store this sample text in the file and then extract dates.\n"
   ]
  },
  {
   "cell_type": "code",
   "execution_count": 33,
   "id": "0900f7b5",
   "metadata": {},
   "outputs": [
    {
     "name": "stdout",
     "output_type": "stream",
     "text": [
      "['12-09-1992', '15-12-1999']\n"
     ]
    }
   ],
   "source": [
    "target_string = \"Ron was born on 12-09-1992 and he was admitted to school 15-12-1999.\"\n",
    "pattern = r'\\b\\d{2}-\\d{2}-\\d{4}\\b'\n",
    "result = re.findall(pattern, target_string)\n",
    "print(result)"
   ]
  },
  {
   "cell_type": "markdown",
   "id": "b13d2aaf",
   "metadata": {},
   "source": [
    "**Question 30** - Create a function in python to remove all words from a string of length between 2 and 4.\n",
    "The use of the re.compile() method is mandatory.\n",
    "\n",
    "Sample Text: \"The following example creates an ArrayList with a capacity of 50 elements. 4 elements are then added to the ArrayList and the ArrayList is trimmed accordingly.\"\n",
    "    \n",
    "Expected Output:  following example creates ArrayList a capacity elements. 4 elements added ArrayList ArrayList trimmed accordingly.\n"
   ]
  },
  {
   "cell_type": "code",
   "execution_count": 34,
   "id": "dd82d18e",
   "metadata": {},
   "outputs": [
    {
     "name": "stdout",
     "output_type": "stream",
     "text": [
      " following example creates ArrayList a capacity elements. 4 elements added ArrayList ArrayList trimmed accordingly.\n"
     ]
    }
   ],
   "source": [
    "import re\n",
    "target_string = \"The following example creates an ArrayList with a capacity of 50 elements. 4 elements are then added to the ArrayList and the ArrayList is trimmed accordingly.\"\n",
    "\n",
    "pattern = re.compile(r'\\b\\w{2,4}\\b')\n",
    "\n",
    "x = re.sub(pattern,'',target_string)\n",
    "result = re.sub(r'\\s+',' ',x)\n",
    "\n",
    "print(result)"
   ]
  },
  {
   "cell_type": "code",
   "execution_count": null,
   "id": "0088b742",
   "metadata": {},
   "outputs": [],
   "source": []
  },
  {
   "cell_type": "code",
   "execution_count": null,
   "id": "4890326c",
   "metadata": {},
   "outputs": [],
   "source": []
  }
 ],
 "metadata": {
  "kernelspec": {
   "display_name": "Python 3 (ipykernel)",
   "language": "python",
   "name": "python3"
  },
  "language_info": {
   "codemirror_mode": {
    "name": "ipython",
    "version": 3
   },
   "file_extension": ".py",
   "mimetype": "text/x-python",
   "name": "python",
   "nbconvert_exporter": "python",
   "pygments_lexer": "ipython3",
   "version": "3.10.9"
  }
 },
 "nbformat": 4,
 "nbformat_minor": 5
}
